{
 "cells": [
  {
   "cell_type": "code",
   "execution_count": 17,
   "metadata": {},
   "outputs": [],
   "source": [
    "import tweepy\n",
    "from tweepy import OAuthHandler"
   ]
  },
  {
   "cell_type": "code",
   "execution_count": 18,
   "metadata": {},
   "outputs": [],
   "source": [
    "consumer_key = 'xxxx'\n",
    "consumer_secret = 'xxxx'\n",
    "access_token = 'xxxx'\n",
    "access_secret = 'xxx'"
   ]
  },
  {
   "cell_type": "code",
   "execution_count": 19,
   "metadata": {},
   "outputs": [],
   "source": [
    "# 1. Create an OAuthHandler instance into which you will pass your consumer key and secret\n",
    "auth = OAuthHandler(consumer_key, consumer_secret)\n",
    "# 2. Set up your access token so you do not need to re-fetch it each time you make a request\n",
    "auth.set_access_token(access_token, access_secret)"
   ]
  },
  {
   "cell_type": "code",
   "execution_count": 20,
   "metadata": {},
   "outputs": [],
   "source": [
    "# Set up the Twitter API Client\n",
    "api = tweepy.API(auth)"
   ]
  },
  {
   "cell_type": "code",
   "execution_count": 58,
   "metadata": {},
   "outputs": [],
   "source": [
    "# We add -filter:retweets to avoid having the same tweet repeated multiple times (in case it has been retweeted):\n",
    "new_search = \"#lockdown2020 -filter:retweets\"\n",
    "tweets_covid = tweepy.Cursor(api.search,q=new_search,tweet_mode='extended',lang=\"en\",since=\"2020-05-10\").items(600)"
   ]
  },
  {
   "cell_type": "code",
   "execution_count": 59,
   "metadata": {},
   "outputs": [],
   "source": [
    "i = 0\n",
    "for tweet in tweets_covid:\n",
    "    with open (\"tweet_lockdown2020_{}.txt\".format(i),'w', encoding='utf-8') as f:\n",
    "        f.write(tweet.full_text)\n",
    "    i += 1"
   ]
  }
 ],
 "metadata": {
  "kernelspec": {
   "display_name": "Python 3",
   "language": "python",
   "name": "python3"
  },
  "language_info": {
   "codemirror_mode": {
    "name": "ipython",
    "version": 3
   },
   "file_extension": ".py",
   "mimetype": "text/x-python",
   "name": "python",
   "nbconvert_exporter": "python",
   "pygments_lexer": "ipython3",
   "version": "3.7.4"
  }
 },
 "nbformat": 4,
 "nbformat_minor": 4
}
