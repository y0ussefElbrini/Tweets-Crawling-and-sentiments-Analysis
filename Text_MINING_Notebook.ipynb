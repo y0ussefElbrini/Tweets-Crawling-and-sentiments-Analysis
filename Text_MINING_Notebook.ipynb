{
 "cells": [
  {
   "cell_type": "markdown",
   "metadata": {},
   "source": [
    "# Text Mining project\n",
    " \n",
    " Partie 2 : réalisation d'un modèle de prédiction des tweets positifs ou négatifs\n",
    " \n",
    " thème : confinement suite au covid_19\n",
    " \n",
    " Hashtag choisi : #Lockdown2020\n"
   ]
  },
  {
   "cell_type": "raw",
   "metadata": {},
   "source": [
    "Importer les librairies nécessaires pour traitement de textes"
   ]
  },
  {
   "cell_type": "code",
   "execution_count": 1,
   "metadata": {},
   "outputs": [],
   "source": [
    "import re\n",
    "import nltk\n",
    "import numpy as np"
   ]
  },
  {
   "cell_type": "raw",
   "metadata": {},
   "source": [
    "Charger la liste des stopwords (pour l'Anglais)\n",
    "On peut voir les premiers mots stopwords"
   ]
  },
  {
   "cell_type": "code",
   "execution_count": 2,
   "metadata": {},
   "outputs": [
    {
     "name": "stderr",
     "output_type": "stream",
     "text": [
      "[nltk_data] Downloading package stopwords to\n",
      "[nltk_data]     C:\\Users\\HP\\AppData\\Roaming\\nltk_data...\n",
      "[nltk_data]   Package stopwords is already up-to-date!\n"
     ]
    },
    {
     "data": {
      "text/plain": [
       "['i', 'me', 'my', 'myself', 'we', 'our', 'ours', 'ourselves', 'you', \"you're\"]"
      ]
     },
     "execution_count": 2,
     "metadata": {},
     "output_type": "execute_result"
    }
   ],
   "source": [
    "from sklearn.datasets import load_files\n",
    "nltk.download('stopwords')\n",
    "\n",
    "import pickle\n",
    "from nltk.corpus import stopwords\n",
    "\n",
    "stopwords.words('english')[0:10]"
   ]
  },
  {
   "cell_type": "raw",
   "metadata": {},
   "source": [
    "Importer le dataset lockdown2020, ensemble des opinions (critiques cinématographiques) à classifier\n",
    "Le dossier lockdown2020 comprend deux sous dossiers : neg et pos. Chaque sous dossier représente une classe.\n",
    "Au total on a 154 opinions/fichiers"
   ]
  },
  {
   "cell_type": "code",
   "execution_count": 3,
   "metadata": {},
   "outputs": [],
   "source": [
    "#import datasets\n",
    "movie_data = load_files(\"lockdown2020\")\n",
    "X, y = movie_data.data, movie_data.target"
   ]
  },
  {
   "cell_type": "code",
   "execution_count": 4,
   "metadata": {},
   "outputs": [
    {
     "data": {
      "text/plain": [
       "{'data': [b'Lockdown has made me so self-sufficient that I forget how to socialise.\\r\\n#lockdownextension \\r\\n#lockdown2020 \\r\\n#LockdownEnd \\r\\n#QuarantineLife',\n",
       "  b\"Best part of 9hrs later and I've completed 12 masks for my family, just another 14 or so to do tomorrow. I knew that GCSE in Textiles would finally come in use \\xf0\\x9f\\x98\\x82 #lockdown2020 #coronavirus #staysafe https://t.co/pm9zPQl58p\",\n",
       "  b'@Jackson_Carlaw  Where\\xe2\\x80\\x99s your statement about bojos right hand man then? Can\\xe2\\x80\\x99t be having one rule for him and a rule for everyone else. #Hypocrite #DominicCummings #COVID\\xe3\\x83\\xbc19 #lockdown2020 https://t.co/RbaU3JiBoZ',\n",
       "  b'It is not easy working for the ignorant and the ungrateful.\\r\\n#EidMubarak \\r\\n#EidUlFitr \\r\\n#staysafe \\r\\n#\\xd8\\xa7\\xd9\\x84\\xd9\\x82\\xd8\\xa8\\xd8\\xb6_\\xd8\\xb9\\xd9\\x84\\xd9\\x89_\\xd8\\xa7\\xd9\\x84\\xd9\\x85\\xd8\\xba\\xd8\\xaa\\xd8\\xb5\\xd8\\xa8_\\xd9\\x85\\xd8\\xa7\\xd8\\xb2\\xd9\\x86_\\xd8\\xa7\\xd8\\xa8\\xd8\\xb1\\xd8\\xa7\\xd9\\x87\\xd9\\x8a\\xd9\\x85 \\r\\n#SaturdayThoughts \\r\\n#lockdown2020 \\r\\n#COVID19KE \\r\\n#',\n",
       "  b'Two @ENAbleFutures  Development Coaches + #SocialDistancing + Mam Tor + Highwinds = one super fun saturday with @ENF_Julia \\r\\nand slightly less than perfect hair.\\xf0\\x9f\\x8d\\x83\\xf0\\x9f\\x99\\x88\\xf0\\x9f\\x98\\x86\\xf0\\x9f\\x8c\\xbf\\xf0\\x9f\\x92\\x9c\\r\\n\\r\\n#exercise #Yorkshire #SaturdayMotivation #SaturdayVibes #Derbyshire #lockdown2020 https://t.co/QE6yN7zeYR',\n",
       "  b'Work in Progress,\\r\\nNeed your Support and Blessings\\xf0\\x9f\\x99\\x8f\\r\\n\\r\\n#Covid_19 \\r\\n#lockdown2020 https://t.co/mZcxdz6c64',\n",
       "  b'Exposing Mainstream Media Lies About COVID-19 (Video) https://t.co/wMn9QskgXr via @BradleeDean1 #LOCKDOWN2020',\n",
       "  b'I made my novel FREE for all of\\xe2\\x9d\\xa4\\xef\\xb8\\x8fYOU\\xe2\\x9d\\xa4\\xef\\xb8\\x8fSelf-Quarantiners! ENJOY!\\xf0\\x9f\\xa5\\xb0\\r\\nhttps://t.co/FYBqubT8c5\\r\\n\\r\\n#FREEBOOKS #pandemic #COVID19 #selfquarantine #SocialDistancing #QuarantineLife #Quarantine #Trump #fantasy #thriller #LOCKDOWN2020 #StayHome #Fauci #slavery #horror #fiction #GameOfThrones https://t.co/sToTHIVTgO',\n",
       "  b\"Oh, tomorrow it's on \\xf0\\x9f\\x98\\x8e\\r\\n\\r\\n#onlinechurch #lockdown2020 #virtualchurch #waymaker #leeland #yoda #worship #sunday #livestream #liveworship #christianhumor #christianmeme https://t.co/TWk6kSORHP\",\n",
       "  b'Dramatic sea today  \\xf0\\x9f\\x8c\\x8a #lockdown2020 #day60 #stayhome #staysafe #waves @ Black Rock (Brighton and Hove) https://t.co/l9ntCdRY4C',\n",
       "  b'#COVID19India #corona #SonuSood #lockdownindia #lockdown2020 Indians take turmeric, ginger, black pepper on daily basis in food so the infection rate is lower and recovery is higher comparatively. Plus the Ayurveda and Yoga Immunizing the followers. Salute to great Country',\n",
       "  b'My lovely neighbours are keeping me sane at the mo. Communal Gdns - tea at 3, wine at 1 all at a distance ;-) #community #lockdown2020 #bekindtoeachother #peopleperson https://t.co/vZhzaVwfm9',\n",
       "  b'Awww a year ago when I was definitely fitter than I am now, we had gyms and there was no talk of social distancing #memories #missthisbunch #initiate #squadgoals #lockdown2020 #whenitallwenttopwp https://t.co/tkaSAeJ8b1',\n",
       "  b\"I'm excited to co-host #JetSetBreakfast with @MichConstant on @SAfmRadio tomorrow. My guests are #NomsaMahlangu &amp; #JoyMbewana as we celebrate #AfricaDay2020. Tune in from 9am. #Radio #lockdown2020 #AfricaDay #behindthemic https://t.co/fdrHfcYUP7\",\n",
       "  b\"First Gin since surgery \\xf0\\x9f\\x8d\\xb8 ... so delicious \\xf0\\x9f\\x98\\x8b and so overdue ... \\r\\n\\r\\nThis is actually me and Raymond's first drink together in our little house \\xf0\\x9f\\x99\\x88\\r\\n\\r\\n#SaturdayNight #Home #Lockdown2020 #GordonsGin @ Stay Home Stay Safe https://t.co/4sgOwLzj23\",\n",
       "  b'Best little friend &amp; companion \\xf0\\x9f\\x98\\x8d. Lego, stories &amp; plans for Sunday. Dreaming of open nurseries so kids can see their fave ducks &amp; birds. \\xf0\\x9f\\xa6\\x86\\xf0\\x9f\\x90\\xa6\\xf0\\x9f\\x90\\xa7\\xf0\\x9f\\xa6\\x89\\xf0\\x9f\\xa6\\x85\\r\\n.\\r\\n.\\r\\n#kidfriendlyoutings #lockdown2020 #lockdownsouthafrica\\xf0\\x9f\\x87\\xbf\\xf0\\x9f\\x87\\xa6\\xe2\\x80\\xa6 https://t.co/NcsWDBXwf4',\n",
       "  b'Women want toxic and abusive men. \\r\\n\\r\\nOkay. \\r\\n\\r\\n#EidUlFitr \\r\\n#staysafe \\r\\n#lockdown2020 https://t.co/NcqCK7hQYY',\n",
       "  b\"@Sweet_Honeygal They're are ISIS Sex slaves. BJP should focus on state level also. Bihar elections this year, West Bengal and Assam next year, then UP and Gujarat. If they loose states, there's no point in controlling centre.\\r\\n#\\xe0\\xa4\\x86\\xe0\\xa4\\xb0\\xe0\\xa4\\x95\\xe0\\xa5\\x8d\\xe0\\xa4\\xb7\\xe0\\xa4\\xa3_\\xe0\\xa4\\xae\\xe0\\xa5\\x81\\xe0\\xa4\\xb0\\xe0\\xa5\\x8d\\xe0\\xa4\\xa6\\xe0\\xa4\\xbe\\xe0\\xa4\\xac\\xe0\\xa4\\xbe\\xe0\\xa4\\xa6\\r\\n#\\xe0\\xae\\xa4\\xe0\\xae\\xae\\xe0\\xae\\xbf\\xe0\\xae\\xb4\\xe0\\xae\\xbf\\xe0\\xae\\xa9\\xe0\\xae\\xa4\\xe0\\xae\\xb2\\xe0\\xae\\x85\\xe0\\xae\\x9c\\xe0\\xae\\xbf\\xe0\\xae\\xa4\\xe0\\xaf\\x8d\\r\\nSikkim\\r\\n#SonuSood\\r\\n#JISOO\\r\\n#lockdown2020\",\n",
       "  b'@SuellaBraverman @10DowningStreet Utter hypocricy. Shamefull!   #lockdown2020 #coronavirus',\n",
       "  b'This #lockdown2020 has done more of an effect on my #mentalhealth than when my brother died back in 2013, this is #Tyranny, the effect on our economy is going to be much greater also, some people need to be held accountable for this so I can sleep again at night #endlockdownuk.',\n",
       "  b'@superdrug why is EVERYTHING I want to order only available for click and collect \\xf0\\x9f\\x98\\xad\\xf0\\x9f\\x99\\x88 please, Sort. It. Out \\xf0\\x9f\\x99\\x8f\\xf0\\x9f\\x8f\\xbc\\r\\n\\r\\nI can pop to any shop and get loo roll easier than the items in my Superdrug shopping basket \\xf0\\x9f\\xa4\\xb7\\xf0\\x9f\\x8f\\xbb\\xe2\\x80\\x8d\\xe2\\x99\\x80\\xef\\xb8\\x8f #ridiculous #superdrug #beauty #haircolor #lockdown2020 #COVID\\xe3\\x83\\xbc19',\n",
       "  b'Watch tomorrow (Sunday)from 9am on Facebook, Instagram &amp; WhatsApp @kloofharvest, openskiesgiba &amp; openskiespmb. Have a great weekend. \\xf0\\x9f\\x98\\x8a#lockdown2020 @ Open Skies Church - Kloof https://t.co/04lrBchZ2Z',\n",
       "  b'#LOCKDOWN2020 50% of all coronavirus deaths in the USA have come from nursing homes! #ultraviolet #HEPA https://t.co/Wj983VdhLU',\n",
       "  b'There, right there, is the pinnacle of my green fingered attempts! The perfect radish . Looks too good to eat ... oops too late.\\r\\n\\r\\n#proudofmyself\\r\\n#urbangarden\\r\\n#growyourown \\r\\n#lockdown2020 \\r\\n#lovewhereilive \\r\\n#lovedorset\\xe2\\x80\\xa6 https://t.co/olcjsht571',\n",
       "  b'This good for nothing lockdown has turned us into sober ,Horny virgins \\r\\n\\r\\nYeeerrrrrrr \\r\\n\\r\\n#lockdown2020 https://t.co/AiCBavdkzO',\n",
       "  b'EVERY SUNDAY FROM 3PM \\r\\n#soulonsunday live on fb insta twitch and zoom for great soulful music on a Sunday \\r\\n#zoomparty #lockdown #lockdown2020 #lockdownparty #soul #soulmusic #sundaychill @ London, United Kingdom https://t.co/1nUpe4u82p',\n",
       "  b'\\xf0\\x9f\\x92\\x9b I\\xe2\\x80\\x99ll be up bright and early tomorrow morning to join @mikeshaft on @BBCRadioManc - MUST set an alarm! 07:45 - not seen that time in a while!! #lockdown2020 https://t.co/CpG6v19OPm',\n",
       "  b'Well that\\xe2\\x80\\x99s a first! Attending a film screening in my slippers \\xf0\\x9f\\xa4\\xb7\\xf0\\x9f\\x8f\\xbc\\xe2\\x80\\x8d\\xe2\\x99\\x80\\xef\\xb8\\x8f Cast &amp; Crew screening of MOTH via Zoom! It\\xe2\\x80\\x99s an awesome #shortfilm being released online next Sunday \\xf0\\x9f\\x8e\\x89 #watchthisspace #premiere #lockdown2020 #castandcrew https://t.co/6VCoAA1eJP',\n",
       "  b'Such a wee dote \\xf0\\x9f\\x92\\x96 #lockdown2020 #StayHome #COVID19 https://t.co/8pd0P6jatZ',\n",
       "  b'100$ its gonna be an Independence Day to remeber!\\r\\nI feel it in my fingers, I feel it in my toes!!!\\r\\nIt\\xe2\\x80\\x99s going down!\\r\\n#TheGreatAwakening #ObamaGate @realDonaldTrump #lockdown2020 #WWG1WGA #awakening https://t.co/cXK0Ujnbxz',\n",
       "  b'@piersmorgan Now they change what yhey have said for 10 weeks. Rules to suit MPs but not the Great British public. Jenny Harries lost all credibility today. Discrace #lockdown2020 #Dominicsgoing #Covid19UK #COVIDIOTS #COVID19 #government #GovernmentCovidSpin #dominiccummings #JennyHarries https://t.co/FfMa2B8iPh',\n",
       "  b'what i find ironic is the #NorthEast and #Yorkshire moaning that the #torieslie . well it was you who got us in this position lending votes what a joke you people are #COVID\\xe3\\x83\\xbc19 #lockdown2020 #coronavirus #SocialDistancing #toryliars #borrowedvotes #takethevotesback',\n",
       "  b'Fruits, buttermilk and water distribution for needy and migrants by Amrutahastam,Vijayawada,AP\\xf0\\x9f\\x99\\x8f #Feedneedy #Lockdown2020 #AmrutahastamVja #Vijayawada https://t.co/DZtCTS1ZK8',\n",
       "  b\"And he doesn't have the decency to acknowledge his error &amp; resign... Shameful! As #healthcareworkers this is a kick in the teeth for @NHSuk . I'm heartbroken \\xf0\\x9f\\x92\\x94 by the tragedies that I've seen, read &amp; heard around us due to #COVID19 &amp; we've all respected the #lockdown2020 . https://t.co/YJ4LuQkUa2\",\n",
       "  b'Lovely Vinnie who has sadly passed over the rainbow bridge \\xf0\\x9f\\x90\\xb6\\r\\n\\r\\n#handdrawnportrait #animalportrait #dogportrait #commissionwelcome #tattooartist #ukfemaletattooartists #lockdown2020 https://t.co/WPPAlX5E3j',\n",
       "  b\"Actor Mohit Baghel, Who Co-Starred With Salman Khan In\\xc2\\xa0Ready, Dies At 26\\r\\n\\r\\nActor Mohit Baghel, best known for playing Amar Chaudhary in superstar Salman Khan's\\xc2\\xa0Ready, died of cancer.\\r\\n#mohitbaghel #cancer #died #ready #salmankhan #coronavirusindia #covid19 #lockdown2020 #quarantine https://t.co/WItTDlVEm6\",\n",
       "  b'More two months not taking a haircut due to #Lockdown2020 but I guess men should cut their own hair now like I do. Thanks bro. https://t.co/Ch3pIwWeeR',\n",
       "  b'Could be Saturday!\\r\\nCould be Monday! \\r\\nCould be Halloween for all we know \\xf0\\x9f\\xa4\\xb7\\xf0\\x9f\\x8f\\xbc\\xe2\\x80\\x8d\\xe2\\x99\\x80\\xef\\xb8\\x8f \\r\\n\\r\\nWhat\\xe2\\x80\\x99s on everyone\\xe2\\x80\\x99s to do list this weekend? \\r\\n\\r\\n#lockdown2020 #boredinthehouse #BankHolidayWeekend https://t.co/oRbr0eed1w',\n",
       "  b'Queen appreciation tweet. \\r\\n\\xf0\\x9f\\x91\\x8f\\xf0\\x9f\\x8f\\xbb\\xf0\\x9f\\x91\\x8f\\xf0\\x9f\\x8f\\xbb\\r\\n\\r\\n#lockdown #lockdown2020',\n",
       "  b'Onesie+ movie + popcorn + coke= perfect saturday\\r\\n\\xf0\\x9f\\x98\\x8a\\xf0\\x9f\\x8d\\xbf\\xf0\\x9f\\x8e\\xa5\\r\\n#lockdown2020',\n",
       "  b'Golf is cancelled... Cruise Director out and about. #golf #windy #cancelled #wine #york #cruisedirector #homedirector #lockdown2020 #comedian #presenter @ York, England https://t.co/uiIOJsod2h',\n",
       "  b'That is awesome. And while that is going on in mostly all stores, #Christians are guided by fear and scared to congregate in church. Shame on us Christians. #WWJD #Lockdown2020 #COVID19 https://t.co/htXXowcq1C',\n",
       "  b'Cardio is the best.\\r\\n. .\\r\\n.\\r\\n #beboldwithmevo #mevofit #lockdown #brunch #cardio #crossfit #bodyweightworkout #bodyweighttraining #weights #fitnessforlife #Fitnesstips #tipoftheday #tip #lockdown2020 #lockdown\\xe2\\x80\\xa6 https://t.co/efoEHLwVjV',\n",
       "  b\"Trip to NY for my daughter's AP Photography class. Time Square in the time of COVID-19\\r\\n#timessquare #lockdown2020 #newyorkcity @ Time Square New York https://t.co/tOwvKCILbE\",\n",
       "  b'FINALLY finished the sound edit on Episode 2 of #lockdownlifeline with just #voiceover to do tomorrow as well as getting started on the script for Episode 3! \\r\\n\\r\\nThis is going to be a busy #BankHolidayWeekend \\r\\n\\r\\n#actress #lockdown2020 #imdb #comedy #onlineseries https://t.co/NmoAM8cteS',\n",
       "  b'Me when i see people talking about @BillGates &amp; @JeffBezos making $400,000,000,000 just during #COVID alone \\r\\n\\r\\n#COVID19 #lockdown2020 #BillGates #JeffBezos #covid1948 #CDC #WorkFromHome #FF https://t.co/pUPBch2Li6',\n",
       "  b'New recipe alert! \\r\\nPoached Egg Curry - Simply Egglicious! \\xf0\\x9f\\x98\\x8b\\xf0\\x9f\\xa4\\xa4\\xf0\\x9f\\x8d\\xb3\\r\\n.\\r\\n#stayhome #staysafe #stayhealthy \\r\\nLink for full recipe\\xe2\\x9e\\xa1\\xef\\xb8\\x8f https://t.co/fURIEDzFyL\\r\\n.\\r\\nLink \\xe2\\x9e\\xa1\\xef\\xb8\\x8f https://t.co/904u0P39vt\\r\\n.\\r\\n#lockdown2020 #Lockdownextention #Food #eggs #eggday #thebusyapron https://t.co/5p97ATtQts',\n",
       "  b'Productive day today \\xf0\\x9f\\x98\\x8a front and back doors painted in @FrenchicPaint Al Fresco Wise Old Sage, absolutely love them \\xf0\\x9f\\x98\\x8d #diy #painting #painteddoors #frenchic #wiseoldsage #HomeImprovement #lockdown2020 #SaturdayMotivation #happy https://t.co/CzsfD4nyu9',\n",
       "  b'We are launching our #apparel store soon. Sign up for 10% discount when we open.\\r\\n.\\r\\n#Shoes #tshirt #designer #LaunchAmerica #MemorialDayWeekend #Covid_19 #lockdown2020 #memorialdayweekend2020 https://t.co/FSesNXkLPT',\n",
       "  b'Watching norbit with Emily shes never seen it before?? What you all up to on this miserable rainy Saturday night... #movienight #Saturday #lockdown2020\\xf0\\x9f\\x98\\xb7 #familytime https://t.co/AyEXYUQzQ7',\n",
       "  b\"Skating on Veterans Memorial? Some of those fallen veterans probably were skaters and they'd do the same thing. Honor their sacrifice-don't canonize them.\\r\\n\\r\\nThey died to give us the freedom to skateboard. \\xf0\\x9f\\x92\\x9b\\xf0\\x9f\\x8c\\xb5\\xe2\\x9c\\x8c\\r\\n\\r\\n#lockdown2020 #MemorialDayWeekend\\r\\n\\r\\nhttps://t.co/Y29sFfGHSs\",\n",
       "  b'@GildedLiliGifts Beautiful! Thanks for the generous opportunity! #lockdown2020 #TuesdayTreat #TuesdayThoughts #givingtuesday #GiveawayAlert #giveaways @peter_hillford',\n",
       "  b\"If I ain't wrong, the worst is yet to come!  \\xf0\\x9f\\x92\\x94 Keep calm and stay alert! #StaySafe \\xf0\\x9f\\x98\\xb7 #StayHomeSaveLives #Its_not_a_joke #lockdown2020 #Jai_Nepal  \\xf0\\x9f\\x87\\xb3\\xf0\\x9f\\x87\\xb5\",\n",
       "  b'Remember: ALL THINGS MUST PASS!  https://t.co/mM01wdC9Jy\\r\\n@thebeatles @Beatlesandsolo #lockdown2020 #GeorgeHarrison #staysafe #SafeAtHome',\n",
       "  b'@Peston @DNewtonC Why is this big news now when it happened in March? I think it\\'s because Johnson* wants to blame \"the people\" for breaking the lockdown so when the second peak comes, he can pretend it\\'s not his fault.\\r\\n*led by Cummings #dominiccummimgs #lockdown2020',\n",
       "  b'#Breaking - A Spanish man has posted a heartwarming video of his reunion with his beloved pet donkey as coronavirus restrictions ease.\\r\\n\\r\\nRead more: https://t.co/8CGEvG1aRy\\r\\n\\r\\n#TrustedNews #LockdownEnd #lockdown2020 #Quarantine #donkey #animal #Reunions #coronavirus #viral #trending https://t.co/pYxi7yKzx2',\n",
       "  b\"Sometimes you hear a live song that just blows you away. @The_CuttingCrew\\r\\nhttps://t.co/TlSWS3cpYJ\\r\\n\\r\\nThis is my tune of #lockdown2020 \\r\\n#NickVanEede this is ridiculously amazing and takes me back to when music was music. The 80's #lockdownmusic #LockdownHouseParty #lockdownuk\",\n",
       "  b'@arusbridger Indeed, no one knows the truth but Cummings. If he truly believed what he did is correct, then do enlighten us! Its because even when current restrictions are eased, we still have to follow the social distancing measures, which I presume we need to follow, right? #lockdown2020',\n",
       "  b'I am so sick of this lockdown now like can\\xe2\\x80\\x99t wait to get back to work and see all of the kids and everybody else #lockdown2020 \\xf0\\x9f\\x99\\x8a\\xf0\\x9f\\x99\\x8a\\xf0\\x9f\\x99\\x88\\xf0\\x9f\\x99\\x88\\xf0\\x9f\\x96\\x95\\xf0\\x9f\\x8f\\xbb\\xf0\\x9f\\x96\\x95\\xf0\\x9f\\x8f\\xbb\\xf0\\x9f\\x96\\x95\\xf0\\x9f\\x8f\\xbb\\xf0\\x9f\\x96\\x95\\xf0\\x9f\\x8f\\xbb\\xf0\\x9f\\x96\\x95\\xf0\\x9f\\x8f\\xbb\\xf0\\x9f\\x96\\x95\\xf0\\x9f\\x8f\\xbb\\xf0\\x9f\\x96\\x95\\xf0\\x9f\\x8f\\xbb',\n",
       "  b'On This Holy Festive, Wishing you a day filled with lots of laughter and happy moments. Eid Mubarak! From Apnapan family to yours!\\r\\n\\r\\n#eidmubarak #spreadlove #spreadkindness #prayfromhome #helpeachother #lockdown2020\\xe2\\x80\\xa6 https://t.co/m0bsLeU509',\n",
       "  b'\"Love in the time of Iso\" \\xf0\\x9f\\x8c\\xb9\\r\\n.\\r\\n.\\r\\n#Flowers #nature #Artist #QuarantineLife #colorful  #arte #painting #design #lockdown2020 https://t.co/NmVcCmRvIy',\n",
       "  b'15 Times Trump Praised China, USA Deaths Nears 100,000, 36 Million Job Looses - Watch Video \\r\\nhttps://t.co/vGHIi4bUgG\\r\\n\\r\\n#staysafe #lockdown2020 #COVID19 #coronavirus',\n",
       "  b'You love Jaffa cakes....you love gin! \\r\\nNow you can enjoy both together, real-life Jaffa cakes, fresh orange peel and cocoa powder \\xf0\\x9f\\x98\\x8d\\xf0\\x9f\\x8d\\x8a\\xf0\\x9f\\xa7\\xa1\\r\\n*\\r\\n*\\r\\n*\\r\\n#gin #ginandtonic #gingin #ginup #jaffa #jaffacakes #jaffacake #jaffacakegin #alcohol #lockdown2020 #lockdowntreat #lockdownlife https://t.co/s3OKWUS53R',\n",
       "  b'@andrewug wishs yhue a happy and peaceful Eid\\r\\n#EidMubarak  #lockdown2020 #StayHome #COVID19 https://t.co/KvHMCH3uIi',\n",
       "  b'What better time to learn a new language than now?  \\r\\n\\r\\n#lockdown #newskills #news #video #lifestyle #lockdown2020 #newsonline #buildyourskills #fender #language #learn #learning #Today #greatnews #Media #howto https://t.co/jl1A7iK1hR',\n",
       "  b'#beforeafter haircut courtesy of my lovely wife Limor Nissan\\r\\n\\r\\n#haircare #lockdown2020 #lockdown #hair #hairstyles #hairstyle #HomeSweetHome https://t.co/kSIsbcAqDD',\n",
       "  b'So many couples have had to postpone their wedding plans this year, in case you didn\\xe2\\x80\\x99t already know we are offering FREE Change The Date postcards to our couples who have had to postpone (t&amp;c\\xe2\\x80\\x99s apply)  #lockdown2020\\xe2\\x80\\xa6 https://t.co/LwmfAgNNRW',\n",
       "  b'Has the UK government been a disgrace during the Coronavirus pandemic? #COVID\\xe3\\x83\\xbc19 #lockdown2020 #UKlockdown',\n",
       "  b'At least 407  people have died due to COVID-19 in the country. #CoronaVirusUpdate #Covid_19 #lockdown2020 https://t.co/TxGNIl3bMb',\n",
       "  b'I feel like the past however many months of isolation have all been undone by assholes in power... #lockdown2020 #coronavirusuk',\n",
       "  b'Debbie\\xe2\\x80\\x99s Creative Corner\\r\\nMy Creative Wellness project to share FREE resources to everyone\\r\\nhttps://t.co/eetDSHE3I0 #MentalHealthAwareness #lockdownuk #lockdown2020 @the_barnsley #mentalwellbeing #creativewellness https://t.co/ivcfJlxAqk',\n",
       "  b'Will power exists!! Haven\\xe2\\x80\\x99t had an alcoholic drink since Wednesday...I\\xe2\\x80\\x99m celebrating now as I know this record won\\xe2\\x80\\x99t last the whole week\\xf0\\x9f\\xa4\\xaa #lockdown2020',\n",
       "  b'Wtf?!? \\r\\n\\r\\nOur government and scientific community has some major explaining to do...\\r\\n\\r\\nunknown scientist named Dr Dean Hamer giving the plan to alter the \"God Gene\" to #DoD officals in the #Pentagon. \\r\\n\\r\\n#news #lockdown2020 #COVID19 #coronavirus #BillGates \\r\\n\\r\\nhttps://t.co/FKcSFUCNYC',\n",
       "  b'If you come out of lockdown still not recognising white male privilege, are you even a person? #CummingsMustGoings #BorisHasFailedBritain #lockdown2020 #whiteprivilege',\n",
       "  b'A book in a day is very satisfying #lockdown2020',\n",
       "  b'@KarlBrophy True and am no fan of said cabinet but far too many column inches given over to his outing. We are quare short of news in this #lockdown2020  Front page on @guardiannews to a story broken days ago?',\n",
       "  b'Keeping yourself happy isn\\xe2\\x80\\x99t difficult ... who looks outside .. dreams and who looks inside ..finds the happiness ... #meditation #positivevibes #positivity #lockdown2020 #positivechange https://t.co/K8lsU9i6fZ',\n",
       "  b'I want my lockdown story to be full of the funniest and uplifting shared moments. \\r\\n#PositiveVibesOnly \\r\\n#lockdown2020 https://t.co/AXNOvni5UZ',\n",
       "  b\"Bankholiday feast-end \\xf0\\x9f\\x8d\\x97\\xf0\\x9f\\x8d\\x9f\\r\\n\\r\\nI've got some KFC Funk-in chicken la - 1st time in 10 weeks!!!\\r\\n\\r\\nGod bless you \\xf0\\x9f\\x99\\x8c \\r\\n\\r\\n#KFC #Food #lockdown2020 #lockdownfood @kfc @KFC_UKI https://t.co/L4ipJJma4a\",\n",
       "  b'So proud of William\\xe2\\x80\\x99s achievement #lockdown2020  #nevergiveup https://t.co/Mi6U0BMmSl',\n",
       "  b'Feeling bloated? Need to loose weight?\\r\\n\\r\\nLets help you attack all that belly fat,and get into shape with Tegreen\\xf0\\x9f\\x8d\\x80\\r\\n\\r\\n\\xf0\\x9f\\x8c\\xbb1 month supply 30 caps = R250\\r\\n\\xf0\\x9f\\x8c\\xbb 4 months supply 120 caps= R850\\r\\n Dm or Whatsapp \\xf0\\x9f\\x93\\xb2 0659068800 #LeratoKganyagoMustRise #lockdown2020 #SingleAndMingle https://t.co/JydWm9vl4Y',\n",
       "  b'It was my first time making Egyptian food (shocking, I know). Let\\xe2\\x80\\x99s just say the kitchen resembled a bomb site...\\r\\n\\r\\nBut I got good reviews and clean plates, so I think it went down well!\\r\\n\\r\\nNow time for Prince of Egypt! \\r\\n\\r\\n#aroundtheworldin8days #lockdown2020 #EidAlFitr #EidMubarak https://t.co/jK94jbZFWy',\n",
       "  b'I think people need to ask themselves\\r\\n\\r\\n\"what lengths would you go to to protect your children?\"\\r\\n\\r\\nI know what my answer would be and breaking Covid Rules is the least I would. \\r\\n\\r\\nReality Check People!!\\r\\n\\r\\n#lockdown2020 #Cummings',\n",
       "  b'Lockdown sunlight and curtains slow motion #lockdown2020 #lockdown #slomo #slowmotion #light @ London, United Kingdom https://t.co/FcG1sHEdma',\n",
       "  b'I can\\xe2\\x80\\x99t deny these quiz nights hosted by scott.coldwell have been a lot of fun! \\xf0\\x9f\\x98\\x84\\r\\n.\\r\\n.\\r\\n.\\r\\n#quiznight #quiz #questions #answer #lockdown #lockdown2020 #quarantine #quarantinelife #instadaily #instagood #insta\\xe2\\x80\\xa6 https://t.co/fFE9VDNFKB',\n",
       "  b'Fuck you,  I won\\xe2\\x80\\x99t do what I tell me.. #DominicCummings @ConserativesUK #DominicCummngs #dominic #durham #COVID19 #lockdown2020 #LockdownHouseParty https://t.co/MPpeBwDjKe',\n",
       "  b'#lockdown2020\\r\\nMy friend who are learning new skills in this lockdown\\r\\nMe to my brain:- https://t.co/H3LpQnWojN',\n",
       "  b\"I don't mean to spoil your appetite. But, #TrumpHasNoPlan to bite into... #saturdaymorning #SaturdayThoughts #caturday #MEMES #lockdown2020 #TrumpLiesAmericansDie #trump https://t.co/TK6h89KYlx\",\n",
       "  b'@BorisJohnson have you not questioned why #DominicCumings was well enough to take a 250 mile journey but not care for his own daughter at home? Shame on you - he must go #lockdown2020',\n",
       "  b'#NDZMustFall #BladeNzimande @HealthZA @DrZweliMkhize @GovernmentZA @CyrilRamaphosa \"small outbreaks of infection\" in a pandemic? \\r\\n1 infection can lead to multiple infection and a lot people could die. \\r\\n\\r\\nWhat ever happened to flattening the curve? @SAHRCommission #lockdown2020',\n",
       "  b\"If #cummings had an accident on the journey think of all the #NHS staff and other emergency service providers that would have been exposed to the virus. Hypothetical yes but that's what the #lockdown2020 was all about! https://t.co/Vwr4XO5COh\",\n",
       "  b'A recent afternoon tea in the garden at home. \\r\\n\\r\\nThere is absolutely no reason to sacrifice scones and clotted cream because of lockdown, after all we are British. \\r\\n\\r\\n#staysafe\\r\\n#stayhome \\r\\n#lockdown2020 \\r\\n#afternoontea \\r\\n#quintessentiallybritish https://t.co/pxptppIhEC',\n",
       "  b'Anyone finding lockdown is effecting you? My heads all over the place and the kids arnt much better either. My youngest is now shy and will hide behind me and my eldest admitted to feeling sad. #lockdown2020',\n",
       "  b'These shoes are absolutely amazing. They are so comfortable and stunning. #shoes #Coach #fashion #life #lockdown2020 #shopping #Quarantine https://t.co/LTN4h8DlsR',\n",
       "  b'Damn, that\\xe2\\x80\\x99s cold for May... \\xe2\\x9d\\x84\\xef\\xb8\\x8f #alexa #alexamemes #alexameme #whatstheweather #weather #quarantine #quarantine2020 #quarantinelife #quarantineandchill #quarantinememes #quarantinememe #lockdown #lockdown2020\\xe2\\x80\\xa6 https://t.co/kypctstWWp',\n",
       "  b'\"i always live like there\\'s no tomorrow\"....\\xf0\\x9f\\x94\\xa5\\xf0\\x9f\\x94\\xa5\\xf0\\x9f\\x94\\xa5\\xf0\\x9f\\x99\\x83\\xf0\\x9f\\x99\\x83\\r\\n\\r\\n#SingleAndMingle \\r\\n#IOnceDated \\r\\n#LockdownHouseParty \\r\\n#lockdown2020 \\r\\n#BASEmentBattle https://t.co/tJRVMsyxZA',\n",
       "  b\"We shouldn't let commies and Jamatis get away by making this sh!t anymore. Pls give 1* to this shitty #PatalLok\\r\\n\\r\\n#\\xe0\\xa4\\x86\\xe0\\xa4\\xb0\\xe0\\xa4\\x95\\xe0\\xa5\\x8d\\xe0\\xa4\\xb7\\xe0\\xa4\\xa3_\\xe0\\xa4\\xae\\xe0\\xa5\\x81\\xe0\\xa4\\xb0\\xe0\\xa5\\x8d\\xe0\\xa4\\xa6\\xe0\\xa4\\xbe\\xe0\\xa4\\xac\\xe0\\xa4\\xbe\\xe0\\xa4\\xa6\\r\\n#\\xe0\\xae\\xa4\\xe0\\xae\\xae\\xe0\\xae\\xbf\\xe0\\xae\\xb4\\xe0\\xae\\xbf\\xe0\\xae\\xa9\\xe0\\xae\\xa4\\xe0\\xae\\xb2\\xe0\\xae\\x85\\xe0\\xae\\x9c\\xe0\\xae\\xbf\\xe0\\xae\\xa4\\xe0\\xaf\\x8d\\r\\n#StandWithJamia\\r\\n#EidMubarak\\r\\nSikkim\\r\\nSOPE\\r\\nHarvetz\\r\\n#\\xe0\\xa4\\xb2\\xe0\\xa4\\xa1\\xe0\\xa4\\xbc\\xe0\\xa4\\x95\\xe0\\xa4\\xbf\\xe0\\xa4\\xaf\\xe0\\xa5\\x8b\\xe0\\xa4\\x82_\\xe0\\xa4\\x95\\xe0\\xa5\\x80_\\xe0\\xa4\\x97\\xe0\\xa4\\xb2\\xe0\\xa4\\xa4_\\xe0\\xa4\\x86\\xe0\\xa4\\xa6\\xe0\\xa4\\xa4_\\xe0\\xa4\\xb9\\xe0\\xa5\\x88\\r\\nGladbach\\r\\n#SonuSood\\r\\n#lockdown2020\\r\\n\\r\\nhttps://t.co/8ZN4aNlx8h\",\n",
       "  b'@ArvindKejriwal If you really feel shame, sack @msisodia who has signed the letter finally on it. Otherwise just shut up\\r\\n\\r\\n#\\xe0\\xa4\\x86\\xe0\\xa4\\xb0\\xe0\\xa4\\x95\\xe0\\xa5\\x8d\\xe0\\xa4\\xb7\\xe0\\xa4\\xa3_\\xe0\\xa4\\xae\\xe0\\xa5\\x81\\xe0\\xa4\\xb0\\xe0\\xa5\\x8d\\xe0\\xa4\\xa6\\xe0\\xa4\\xbe\\xe0\\xa4\\xac\\xe0\\xa4\\xbe\\xe0\\xa4\\xa6\\r\\n#\\xe0\\xae\\xa4\\xe0\\xae\\xae\\xe0\\xae\\xbf\\xe0\\xae\\xb4\\xe0\\xae\\xbf\\xe0\\xae\\xa9\\xe0\\xae\\xa4\\xe0\\xae\\xb2\\xe0\\xae\\x85\\xe0\\xae\\x9c\\xe0\\xae\\xbf\\xe0\\xae\\xa4\\xe0\\xaf\\x8d\\r\\n#StandWithJamia\\r\\n#EidMubarak\\r\\nSikkim\\r\\nSOPE\\r\\nHarvetz\\r\\n#\\xe0\\xa4\\xb2\\xe0\\xa4\\xa1\\xe0\\xa4\\xbc\\xe0\\xa4\\x95\\xe0\\xa4\\xbf\\xe0\\xa4\\xaf\\xe0\\xa5\\x8b\\xe0\\xa4\\x82_\\xe0\\xa4\\x95\\xe0\\xa5\\x80_\\xe0\\xa4\\x97\\xe0\\xa4\\xb2\\xe0\\xa4\\xa4_\\xe0\\xa4\\x86\\xe0\\xa4\\xa6\\xe0\\xa4\\xa4_\\xe0\\xa4\\xb9\\xe0\\xa5\\x88\\r\\nGladbach\\r\\n#SonuSood\\r\\n#JISOO\\r\\n#lockdown2020',\n",
       "  b\"#BritainsGotTalent All time Saturday night favorite \\xf0\\x9f\\x91\\x8c\\xf0\\x9f\\x91\\x8c Hot chocolate &amp; harribo jelly's \\xf0\\x9f\\x98\\x8a #bestlife \\xf0\\x9f\\x98\\x82 #StayHome #lockdown2020 #InItTogetherWorldWide \\xe2\\x9d\\xa4\",\n",
       "  b\"@piersmorgan @samwessexgirl \\r\\nThe Government lost their credibility on #lockdown2020  ages ago..Cummings' little trek took place in March...its now two months since this happened..who hushed it up, who leaked it ..?\",\n",
       "  b\"Britain's got talent on. Fish and chips eaten. What a wonderful life \\xf0\\x9f\\x98\\x9c #family #lockdown2020 #itv #yummy\",\n",
       "  b'#BreakingNews the total number of confirmed COVID-19 cases in South Africa has risen to 21 343. #Day58OfLockDown #Covid_19 #lockdown2020 https://t.co/ycO73lxMPJ',\n",
       "  b'Night night everyone \\xf0\\x9f\\xa7\\xa1\\r\\nAll of the doggos here have had their bedtime treat and are snuggled up dreaming of chasing tennis balls and chomping on more tasty treats.\\r\\nSleep tight \\xf0\\x9f\\x90\\xbe\\r\\n#giveadogachance #adoptdontshop #dogsduringlockdown #dogsoftwitter #COVID\\xe3\\x83\\xbc19 #COVID19 #lockdown2020 https://t.co/gXBgdtdB13',\n",
       "  b\"When u just can't wait any longer for Eid!!\\xf0\\x9f\\x98\\x82\\xf0\\x9f\\x98\\x82\\r\\n#EidUlFitr #HappyEid #ShaneRamzan #lockdown2020 https://t.co/y4KDXLuIXc\",\n",
       "  b\"@AfreenFatima136 I'm extremely horrible person so as 50 crore voters voted to Narendra Damodar das Modi chosen over Pappu son of Antonia maino\\r\\n\\r\\n#\\xe0\\xa4\\x86\\xe0\\xa4\\xb0\\xe0\\xa4\\x95\\xe0\\xa5\\x8d\\xe0\\xa4\\xb7\\xe0\\xa4\\xa3_\\xe0\\xa4\\xae\\xe0\\xa5\\x81\\xe0\\xa4\\xb0\\xe0\\xa5\\x8d\\xe0\\xa4\\xa6\\xe0\\xa4\\xbe\\xe0\\xa4\\xac\\xe0\\xa4\\xbe\\xe0\\xa4\\xa6\\r\\n#\\xe0\\xae\\xa4\\xe0\\xae\\xae\\xe0\\xae\\xbf\\xe0\\xae\\xb4\\xe0\\xae\\xbf\\xe0\\xae\\xa9\\xe0\\xae\\xa4\\xe0\\xae\\xb2\\xe0\\xae\\x85\\xe0\\xae\\x9c\\xe0\\xae\\xbf\\xe0\\xae\\xa4\\xe0\\xaf\\x8d\\r\\n#StandWithJamia\\r\\n#EidMubarak\\r\\nSikkim\\r\\nSOPE\\r\\nHarvetz\\r\\n#\\xe0\\xa4\\xb2\\xe0\\xa4\\xa1\\xe0\\xa4\\xbc\\xe0\\xa4\\x95\\xe0\\xa4\\xbf\\xe0\\xa4\\xaf\\xe0\\xa5\\x8b\\xe0\\xa4\\x82_\\xe0\\xa4\\x95\\xe0\\xa5\\x80_\\xe0\\xa4\\x97\\xe0\\xa4\\xb2\\xe0\\xa4\\xa4_\\xe0\\xa4\\x86\\xe0\\xa4\\xa6\\xe0\\xa4\\xa4_\\xe0\\xa4\\xb9\\xe0\\xa5\\x88\\r\\nGladbach\\r\\n#SonuSood\\r\\n#JISOO\\r\\n#lockdown2020\",\n",
       "  b'Let\\xe2\\x80\\x99s not follow the advice #DominicCumings didn\\xe2\\x80\\x99t, fuck the #lockdown #lockdown2020 #COVID19 #Covid19UK and fuck you @BorisJohnson #BorisHasFailedBritain https://t.co/mZhYZOXEnA',\n",
       "  b'Happy Customer \"Stay Postive\" Face Mask\\xf0\\x9f\\x8e\\xad\\xf0\\x9f\\x94\\xa5\\xf0\\x9f\\x94\\xa5\\xf0\\x9f\\x94\\xa5 looking fresh. DM pictures to be featured. \\xf0\\x9f\\x98\\x8d\\r\\nGet yours https://t.co/SylIgysvaq\\r\\n\\xf0\\x9f\\x93\\xb8 mattlfc1990\\r\\n.\\r\\n.\\r\\n#facemask #staypositive #covid19 #lockdown2020 @ Habby Business - \"The Boom\\xe2\\x80\\xa6 https://t.co/rLW2WOEB5W',\n",
       "  b'The year 4 pizza project has inspired us to start making our own pizzas, so every weekend we now make and roll out our own dough, and add our favourite toppings. Family time at its best \\xf0\\x9f\\xa5\\xb0 #lockdown2020 @MrGilmourRSDPS @MrsWoolleyRSDP @RhiwSyrDafydd https://t.co/LEkcCpIM6P',\n",
       "  b'Finally got a haircut in these dire times.\\xf0\\x9f\\x99\\x88\\xf0\\x9f\\x92\\x87\\xf0\\x9f\\x8f\\xbd\\xe2\\x80\\x8d\\xe2\\x99\\x82\\xef\\xb8\\x8f\\r\\n\\r\\n #lockdown #LockdownSA #Lockdownlevel4 #lockdown2020 #COVID\\xe3\\x83\\xbc19 #utatakho #AKATV #LockdownHouseParty #SingleAndMingle https://t.co/NyLskEHAGC',\n",
       "  b'Not had an #haircut all year, fucking behave yourselves, #lockdown #lockdown2020 #lockdownhaircut https://t.co/0kxcIDqIGY',\n",
       "  b'Be patient, life is about to go green soon...\\r\\n#lockdown2020 #LockdownLife  #photography #photographer #positivevibes #oneplus7pro #oneplus #lights #road #night #nightphotography https://t.co/Q1e1Uzrt1q',\n",
       "  b'Amelia found my flower presses in the baking drawer and so we\\xe2\\x80\\x99ve made some buns! \\xf0\\x9f\\xa7\\x81\\xf0\\x9f\\xa7\\x81\\r\\n\\r\\nFirst time I\\xe2\\x80\\x99ve made buttercream but I\\xe2\\x80\\x99m quite impressed! \\r\\n\\r\\nWhat I\\xe2\\x80\\x99ve you been baking during #lockdown2020?\\r\\n\\r\\n#bakingwitha3yearold #cupcakes #flowers #buttercream #chocolatecake https://t.co/UyLTKUKckE',\n",
       "  b'@mrdanwalker There are no rules now apparently #lockdown2020 is over \\xf0\\x9f\\x99\\x84 @BorisJohnson needs to climb back out of whatever fridge he is hiding in and deal with this mess. #dominiccummimgs should not resign, he should be sacked.',\n",
       "  b\"@piersmorgan One rule for us, another rule for the rich and powerful. Don't vote for the fucking Tories next time.\\r\\n\\r\\n#lockdown2020\\r\\n#DominicCummings\",\n",
       "  b'Saturday lockdown loft completed \\xf0\\x9f\\x91\\x8f\\xf0\\x9f\\x98\\x87looking at these photos, it would appear we have an early 90\\xe2\\x80\\x99s fan of perms and a tan in the household \\xf0\\x9f\\xa5\\xba\\xf0\\x9f\\x98\\x82#bananarama #lockdown2020 https://t.co/GbttNRFRuS',\n",
       "  b'\\xe2\\x80\\xa2 In a world where you can be anything, Be Kind \\xf0\\x9f\\x96\\xa4 \\xe2\\x80\\xa2\\r\\n\\xe2\\x80\\xa2\\r\\n\\xe2\\x80\\xa2\\r\\n\\xe2\\x80\\xa2\\r\\n\\xe2\\x80\\xa2 #bekind #bekindtoyourself #bekindtoothers #bekindtoyourmind #bekindtoeveryone #inaworldwhereyoucanbeanythingbekind #lockdown2020 #lockdownlife\\xe2\\x80\\xa6 https://t.co/s4ztt3Js44',\n",
       "  b'\\xe2\\x80\\x9cWith less than 5 percent of the world\\xe2\\x80\\x99s population, the United States accounts for more than 30 percent of the planet\\xe2\\x80\\x99s coronavirus cases.\\xe2\\x80\\x9d Thanks @realDonaldTrump for nothing. #coronavirus #lockdown2020 @nytimes thanks for real news!',\n",
       "  b'@acatherwoodnews My extended family errr no thanks, you can bloody keep em I would rather have Jack The Ripper drop my shopping off.\\r\\n#GrantShaps \\r\\n#DailyBriefings \\r\\n#DominicCumings \\r\\n#DominicCummingsmustbesacked \\r\\n#lockdown2020',\n",
       "  b'Family and friends is so important, after all this I hope everyone will appreciate that more! \\r\\n\\r\\nRetweet if you agree!\\r\\n\\r\\n#family #COVID\\xe3\\x83\\xbc19 #lockdown2020 #StrongerTogether #TogetherWeCan',\n",
       "  b'Ok, so when are the pubs opening back up, I\\xe2\\x80\\x99m guessing that lockdown is over and corona virus was only the sniffles #lockdown2020 #ToriesOut #ToryLies',\n",
       "  b\"How wholly inappropriate of us \\xf0\\x9f\\x98\\xb1........\\r\\n\\r\\nNo wait, \\xf0\\x9f\\xa4\\x94 I'm not politicising.... I'm criticising, who's with me \\xf0\\x9f\\xa7\\x90\\xf0\\x9f\\x92\\xaa.\\r\\n\\r\\n#coronavirus #lockdown2020 #Dominicsgoing https://t.co/AbwimujtY6\",\n",
       "  b'@Lee4NED really want to like you and your party. Why do you all make it so difficult? Millions now feel you are all tarred with same brush. #fraud #lockdown2020 #dishonesty',\n",
       "  b'THREAD [4/4]\\r\\n#COVID19SouthAfrica \\xf0\\x9f\\x87\\xbf\\xf0\\x9f\\x87\\xa6\\r\\n23 May 2020 - 20:00 PM\\r\\n\\r\\nTotal Recoveries: 10,104 (+0)\\r\\n\\r\\nProvincial Recoveries:\\r\\nWC: 6,126 \\r\\nGP: 1,776 \\r\\nEC: 1,036 \\r\\nKZN: 880 \\r\\nFS: 121\\r\\nMP: 58 \\r\\nLP: 51 \\r\\nNW: 29 \\r\\nNC: 27\\r\\n\\r\\n#Day58OfLockDown #lockdown2020',\n",
       "  b'I miss my family \\xf0\\x9f\\x98\\xa3 #lockdown2020',\n",
       "  b\"@LuLuRoche @carnmcgrath Size matters not. Don't cough and spit on people. #lockdown2020 https://t.co/7RqOTbXvfy\",\n",
       "  b'Went to @marksandspencer in North County Dublin today. The first time for 6 weeks! You don\\xe2\\x80\\x99t realise how you miss this kind of simple stuff in #lockdown2020 until you see things with fresh eyes.',\n",
       "  b'\"In the rush to return to normal, use this time to consider which parts of normal are worth rushing back to.\"\\r\\n                                          - Dave Hollis\\r\\n\\r\\n#TheNewNormal #LockdownTaughtMe #lockdown2020 #Pakistan',\n",
       "  b'Hahaha remember that after lockdown guys \\xf0\\x9f\\x98\\x82\\xf0\\x9f\\x92\\x85 \\r\\n#nailtech #nailtechlife #nailtechnician #nailtechs #nailtechnicians #lockdown #lockdown2020 #lockdownlife #isolation #isolationcreation #isolationlife #thatnailgirlsheree #nailsindoncaster #doncaster #doncasterisgreat #doncasternails https://t.co/81hRgPAvJw',\n",
       "  b'The reason pubs and bars are still closed\\r\\n#lockdown2020 https://t.co/pK4D2bortl',\n",
       "  b'The weekend is finally here.\\r\\n\\r\\n#longweekend #memorialday #memorialdayweekend #weekendbegins #weekendvibes #stayhome #chill #saturdaymood #saturdaynight #lockdown2020 https://t.co/PRzk6EHWCP',\n",
       "  b'Beautiful surprise flowers today - how lovely! \\xf0\\x9f\\x8c\\xb8\\xf0\\x9f\\x8c\\xba\\r\\n.\\r\\n#lockdownblues #lockdown2020 #thankyou #grateful #boydidgood https://t.co/Yx50CArHh3',\n",
       "  b\"@Being_Humor @ArvindKejriwal That's true. He's a wolf acting like a sheep. He's more dangerous than Jihaadis\\r\\n\\r\\n#\\xe0\\xa4\\x86\\xe0\\xa4\\xb0\\xe0\\xa4\\x95\\xe0\\xa5\\x8d\\xe0\\xa4\\xb7\\xe0\\xa4\\xa3_\\xe0\\xa4\\xae\\xe0\\xa5\\x81\\xe0\\xa4\\xb0\\xe0\\xa5\\x8d\\xe0\\xa4\\xa6\\xe0\\xa4\\xbe\\xe0\\xa4\\xac\\xe0\\xa4\\xbe\\xe0\\xa4\\xa6\\r\\n#\\xe0\\xae\\xa4\\xe0\\xae\\xae\\xe0\\xae\\xbf\\xe0\\xae\\xb4\\xe0\\xae\\xbf\\xe0\\xae\\xa9\\xe0\\xae\\xa4\\xe0\\xae\\xb2\\xe0\\xae\\x85\\xe0\\xae\\x9c\\xe0\\xae\\xbf\\xe0\\xae\\xa4\\xe0\\xaf\\x8d\\r\\n#StandWithJamia\\r\\n#EidMubarak\\r\\nSikkim\\r\\nSOPE\\r\\nHarvetz\\r\\n#\\xe0\\xa4\\xb2\\xe0\\xa4\\xa1\\xe0\\xa4\\xbc\\xe0\\xa4\\x95\\xe0\\xa4\\xbf\\xe0\\xa4\\xaf\\xe0\\xa5\\x8b\\xe0\\xa4\\x82_\\xe0\\xa4\\x95\\xe0\\xa5\\x80_\\xe0\\xa4\\x97\\xe0\\xa4\\xb2\\xe0\\xa4\\xa4_\\xe0\\xa4\\x86\\xe0\\xa4\\xa6\\xe0\\xa4\\xa4_\\xe0\\xa4\\xb9\\xe0\\xa5\\x88\\r\\nGladbach\\r\\n#SonuSood\\r\\n#JISOO\\r\\n#lockdown2020\",\n",
       "  b\"@FyldeGasser @OliverDowden 'Probably'!? Don't talk like you were there when he ignored the guideline! Your words are assumption, while he travelled during lockdown is a fact! He could explain more himself but he didn't. #SaturdayThoughts #coronavirus #lockdown2020 #unitedinlockdown #uk\",\n",
       "  b'What is this happening to our country #tamilnadupolice #Narendermodi  how does a country symbol hurt their feeling\\r\\n#lockdown2020 #SaturdayThoughts @myogiadityanath @PMOIndia @rashtrapatibhvn https://t.co/wX2Ujk3zXu',\n",
       "  b'Message for more information on how you too can feel incredible. \\r\\nDo you want to feel better? Happier? Have more focus? Achieve fat loss? More energy? \\r\\nLet us help you.. \\r\\n#fatloss #keto #ketosis #lockdown2020 #healthy #ketogenic #lockdownhealedus https://t.co/DFn0R4Umxs',\n",
       "  b'\\xf0\\x9f\\x8c\\x88Feeling super colorful today @JoeBiden #obamagate #lockdown2020 #savethechildren\\r\\n#pizzagateisreal #trump2020\\r\\n#thegreatawakening #QAnons #godwins https://t.co/zjEbtusouv',\n",
       "  b'@sneheshphilip @ashishsphotos This is common in #Lockdown4 . Lockdown has created mess. #lockdown2020 must end now.',\n",
       "  b'POLL: Should #DominicCummings resign?\\r\\n\\r\\nShare far and wide!\\r\\n\\r\\n#lockdown2020 #sackcummins #Dominicsgoing #sackDom',\n",
       "  b'Nothing quite like family time \\xf0\\x9f\\xa5\\xb0\\xf0\\x9f\\x90\\xb6\\xf0\\x9f\\x90\\xb6\\r\\n\\r\\n#iloveyou #mangotherednosepit #carlos_the_amstaff #pitbullsofinsta #staffiesgram_ #lovebug #wine #lockdown2020 #graysanatomy #nederburg #nederburgcabernetsauvignon2002\\xe2\\x80\\xa6 https://t.co/3laRudgYwc',\n",
       "  b\"#EidMubarak. This #Eid is going to be difficult! Praying for the deceased's and for the safety of everyone. Please stay home! \\r\\n#PK8303 #planecrashkarachi #karachiPlaneCrash #lockdown2020 #coronavirus\",\n",
       "  b'How much can fit in a day on lockdown #lockdown2020 gardening cycling walking caddying shopping cooking \\xf0\\x9f\\xa4\\xa3\\xf0\\x9f\\xa4\\xa3\\xf0\\x9f\\xa4\\xa3\\xf0\\x9f\\xa4\\xa3\\xf0\\x9f\\xa4\\xa3and now \\xf0\\x9f\\xa5\\x82 https://t.co/qVhZH5jpHz',\n",
       "  b'Watching the world go by..... sure wish we could speed things up a bit right now time lapse style! #lockdown2020 #timelapse \\xf0\\x9f\\x93\\xb8 by lukiedamen @ Cambridge Circus, London https://t.co/JXcgWBiDkL',\n",
       "  b'A craft a day. Day 65 - face mask ear saver\\r\\n#acraftaday #acraftadaykeepstheboredomaway #socialdistancing #socialisolation #crochet #crochetersofinstagram #facemask #earsaver #crochetearsaver #crochetearprotector #facemaskearsaver #lockdown2020 #keepcraftingcarryon https://t.co/qzxtKdnLra',\n",
       "  b\"#EidMubarak. This #Eid is going to be difficult! Praying for the deceased's and for the safety of everyone. Please stay home! \\r\\n#PK8303 #planecrashkarachi #karachiPlaneCrash #lockdown2020 #coronavirus\",\n",
       "  b\"@DominicRaab Happy #EidMubarak to everone celebrating today!!! @grantshapps ended #lockdown2020 this afternoon,  so meet up , eat well , see extended family even if the'yr 260miles away !!!\",\n",
       "  b'@MrNaassir \\r\\n#EidMubarak \\r\\nno doubt\\r\\nthis Eid would be in a different situation\\r\\ncountry fighting against #Corona\\r\\n#unemployment  #lockdown2020 \\r\\nsince March\\r\\nnow ease only for Eid \\r\\n#PIAPlaneCrash \\r\\nthese all factors made a sad and depressed atmosphere \\r\\nwe ask #Forgiveness from #Allah https://t.co/C4bT3Z48O8',\n",
       "  b'Making History - @ClareCoMuseum wants to see your pictures and hear your stories of life during the present #Covid_19 crisis.\\r\\nSend your #stories and #photos to claremuseum@clarecoco.ie\\r\\n#museum #Clare #Ennis #lockdown2020 #experience #MakingHistory https://t.co/gY02PNQeJv',\n",
       "  b\"13 months of singing lessons, and I released my first solo song. What y'all think? https://t.co/Q3KI1X2Fe6\\r\\n#MetalHead #MetalMusic #headbanger #soloartist #songwriter #lockdown2020\",\n",
       "  b\"Enjoying the small pleasures in life. Home cooked turmeric roast cauliflower and cod followed by my husband's chocolate and date pudding cake! #homecooking #lockdown2020 #selfcare https://t.co/4qwJvjbom2\",\n",
       "  b'Saw this today and thought about all of you @NHSBagsnBands \\xf0\\x9f\\x8c\\x9f These moments will become memories and when stories are told of #lockdown2020 you will have a tale to tell \\xf0\\x9f\\x8c\\x88\\xf0\\x9f\\x92\\x99 @Vickihill88 https://t.co/yS4dcZ5U8m',\n",
       "  b'happy graduation day! in case y\\xe2\\x80\\x99all are feeling generous! @CashApp #venmo #twitch #SaturdayThoughts #ClassOf2020 #Graduation2020 #lockdown2020 #BailoutHumans #BailoutHumansNow #senior #TheKingEternalMonarch https://t.co/Qt0fmtH3e8',\n",
       "  b'Day 6: We\\xe2\\x80\\x99ve ventured to my second home country \\xf0\\x9f\\x87\\xaa\\xf0\\x9f\\x87\\xac I\\xe2\\x80\\x99d like to say I planned the fact that it\\xe2\\x80\\x99s also Eid, but it\\xe2\\x80\\x99s a happy accident.\\r\\n\\r\\nEid Mubarak to all those celebrating!\\r\\n\\r\\n#aroundtheworldin8days #lockdown2020 #LockdownLife #Egypt #Eid #EidAlFitr #EidMubarak https://t.co/ka1DPa4V65',\n",
       "  b\"Keep Cummings there, the more he's there the more wel be able to point out how hypocritical this awful government is...\\r\\n\\r\\n#coronavirus \\r\\n#lockdown2020 \\r\\n#Cummings\",\n",
       "  b'\\xf0\\x9f\\x9a\\xa8 BRAG POST!!! \\r\\nOur @whitchurchwrfc ladies managed to secure a great win again today. MOM @RLGriff97 \\xf0\\x9f\\x91\\x8f. \\r\\nFantastic first \\xe2\\x80\\x98virtual\\xe2\\x80\\x99 game for @LadiesCRCC who came away with a draw. #Lockdown2020 (1 of 2) see translation.',\n",
       "  b'My father doesn\\xe2\\x80\\x99t do well in Quarantine #lockdown2020 #SaturdayMotivation #StayHomeStaySafe https://t.co/Z3KhoYowSF',\n",
       "  b'Tried #needlefelting today for the first time. Loving having time to play during #lockdown2020 #creativelockdown #creativityformindfulness only stabbed my fingers a few times!! Lol\\r\\n#craftingismytherapy https://t.co/Y7Vox6fuhY',\n",
       "  b'Wishing Myself All The Best For My Final Year In High School.\\xf0\\x9f\\x99\\x8f\\xf0\\x9f\\x8f\\xbd May The Lord Protect Me As We Return On The 1st Of June. #ClassOf2020 #Matrics #staysafe #lockdown2020 #SaturdayThoughts  #lockdown https://t.co/UH6QJ2HPO6',\n",
       "  b'Free local delivery to enjoy Tasty tapas at The Olive Chapel Allerton tonight ... call 0113 2691007 https://t.co/5TlbDdinbQ or call Deliveroo or UberEats too #staysafe #COVID19 #lockdown2020 #northleeds #theolivechapelallerton #greekfood #ls7 #leeds https://t.co/KvQzPPrnAW',\n",
       "  b\"@Bhupendra_IAS @ChandrusWeb This is Nagpur Niti. They are not cheating. People of this country didn't vote for economic Job equality,employment,inflation economy etc but 'Modiji ne Pakistan ko kara jawab diya' so bhugato. #coronavirus #lockdown2020\",\n",
       "  b\"I see my #twitter timeline is dominated by political garbage again,which I often find myself getting sucked into,football and the rest of sport can't come back soon enough,so we can tweet about the important things in life! \\xf0\\x9f\\x98\\x83#lockdown2020 \\xe2\\x9a\\xbd\\xef\\xb8\\x8f\\xf0\\x9f\\x8f\\x8f\\xf0\\x9f\\xa5\\x8a\\xf0\\x9f\\x8e\\xaf\\xf0\\x9f\\x8f\\x86\\xf0\\x9f\\x8e\\xbe\",\n",
       "  b'But, everything happens for a reason, I hope we can remember the lessons learned and act on them. \\r\\n\\r\\n#ramadan2020 #ramadanathome\\r\\n#ramadan #prayathome #stayathomesavelives #lockdown2020 #covid19 #palestine #karachi #pandemic #allahuakbar \\r\\n\\r\\n@MuslimScot @AminaMWRC @AlMasaarFalkirk',\n",
       "  b'Seeing people on TV shows with good haircuts is an inspiring glimpse into the past. #lockdown2020',\n",
       "  b'If government need a good diversion to shift the media agenda, they should announce the end of lockdown starting tomorrow morning. That should do it. \\r\\n#lockdown2020 #COVID19 #Covid19UK #classicdom',\n",
       "  b'@panicroomkent great fun playing \\xe2\\x80\\x98My Dearest Emily\\xe2\\x80\\x99 with my brother #lockdown2020 #SaturdayNight https://t.co/qcD8gLyKnm',\n",
       "  b'It\\xe2\\x80\\x99s two full months today since the #lockdown2020. Migrant workers are still on the roads! #covid is going to stay but this humanitarian crisis of migrant workers needs to end soonest! #MigrantLivesMatter #TrainsForMigrantsNow #TogetherAgainstCovid #ActNow https://t.co/VBOygJ3u5D',\n",
       "  b'What a day to join Twitter! Government tries to somehow defend a set of actions as perfectly ok, whilst carefully treading a line that also gives the message not to do it. Irony, oxymoronic statements and breathtaking hypocrisy abound. #CumminsGate #COVID19 #lockdown2020',\n",
       "  b'Need to have a good fucking piss up soon and get shitted #lockdown2020  #GetOut',\n",
       "  b'Home made caiprinhas, open fire and Gerry Cinnamon playlist.... Absolutey loving life\\r\\n#gerrycinnamon  #Belter #caipirinha #fire #lovinglife #lockdowngoals #kampfirevampire #lockdown2020\\xf0\\x9f\\x98\\xb7 @GerryCinnamon \\xe2\\x9d\\xa4 https://t.co/B3HUjKKk8Z',\n",
       "  b'Who agrees 2020 is over! \\r\\nI mean; no holidays, can\\xe2\\x80\\x99t see family, can\\xe2\\x80\\x99t see friends, pubs and clubs closed, can\\xe2\\x80\\x99t see kids, can\\xe2\\x80\\x99t see parents, the fear, the sadness.....\\r\\n\\r\\n#StayHome #COVID\\xe3\\x83\\xbc19 #lockdown2020',\n",
       "  b'Another lockdown project complete. My #TMNT Bartop Arcade - The artwork is my own retake of the old NES TMNT box art. My childhood is now restored #gamesyouloved @gamesyouloved #ninjaturtles #RETROGAMING #GamersUnite #arcadegames #lockdown2020 https://t.co/W49WwIGlU1',\n",
       "  b\"Where's the mass movement that brought Apartheid down now? Our freedom is at stake! #COVID19 #lockdown2020 @CyrilRamaphosa\"],\n",
       " 'filenames': array(['lockdown2020\\\\neg\\\\tweet_lockdown2020_352.txt',\n",
       "        'lockdown2020\\\\pos\\\\tweet_lockdown2020_337.txt',\n",
       "        'lockdown2020\\\\neg\\\\tweet_lockdown2020_52.txt',\n",
       "        'lockdown2020\\\\neg\\\\tweet_lockdown2020_355.txt',\n",
       "        'lockdown2020\\\\pos\\\\tweet_lockdown2020_262.txt',\n",
       "        'lockdown2020\\\\pos\\\\tweet_lockdown2020_197.txt',\n",
       "        'lockdown2020\\\\neg\\\\tweet_lockdown2020_118.txt',\n",
       "        'lockdown2020\\\\pos\\\\tweet_lockdown2020_49.txt',\n",
       "        'lockdown2020\\\\pos\\\\tweet_lockdown2020_200.txt',\n",
       "        'lockdown2020\\\\pos\\\\tweet_lockdown2020_169.txt',\n",
       "        'lockdown2020\\\\pos\\\\tweet_lockdown2020_302.txt',\n",
       "        'lockdown2020\\\\pos\\\\tweet_lockdown2020_330.txt',\n",
       "        'lockdown2020\\\\neg\\\\tweet_lockdown2020_113.txt',\n",
       "        'lockdown2020\\\\pos\\\\tweet_lockdown2020_187.txt',\n",
       "        'lockdown2020\\\\pos\\\\tweet_lockdown2020_79.txt',\n",
       "        'lockdown2020\\\\pos\\\\tweet_lockdown2020_176.txt',\n",
       "        'lockdown2020\\\\neg\\\\tweet_lockdown2020_248.txt',\n",
       "        'lockdown2020\\\\neg\\\\tweet_lockdown2020_162.txt',\n",
       "        'lockdown2020\\\\neg\\\\tweet_lockdown2020_377.txt',\n",
       "        'lockdown2020\\\\neg\\\\tweet_lockdown2020_328.txt',\n",
       "        'lockdown2020\\\\neg\\\\tweet_lockdown2020_63.txt',\n",
       "        'lockdown2020\\\\neg\\\\tweet_lockdown2020_269.txt',\n",
       "        'lockdown2020\\\\neg\\\\tweet_lockdown2020_112.txt',\n",
       "        'lockdown2020\\\\pos\\\\tweet_lockdown2020_230.txt',\n",
       "        'lockdown2020\\\\neg\\\\tweet_lockdown2020_375.txt',\n",
       "        'lockdown2020\\\\pos\\\\tweet_lockdown2020_207.txt',\n",
       "        'lockdown2020\\\\pos\\\\tweet_lockdown2020_25.txt',\n",
       "        'lockdown2020\\\\pos\\\\tweet_lockdown2020_31.txt',\n",
       "        'lockdown2020\\\\pos\\\\tweet_lockdown2020_209.txt',\n",
       "        'lockdown2020\\\\pos\\\\tweet_lockdown2020_69.txt',\n",
       "        'lockdown2020\\\\neg\\\\tweet_lockdown2020_226.txt',\n",
       "        'lockdown2020\\\\neg\\\\tweet_lockdown2020_364.txt',\n",
       "        'lockdown2020\\\\pos\\\\tweet_lockdown2020_263.txt',\n",
       "        'lockdown2020\\\\neg\\\\tweet_lockdown2020_30.txt',\n",
       "        'lockdown2020\\\\neg\\\\tweet_lockdown2020_119.txt',\n",
       "        'lockdown2020\\\\neg\\\\tweet_lockdown2020_3.txt',\n",
       "        'lockdown2020\\\\pos\\\\tweet_lockdown2020_136.txt',\n",
       "        'lockdown2020\\\\pos\\\\tweet_lockdown2020_205.txt',\n",
       "        'lockdown2020\\\\pos\\\\tweet_lockdown2020_188.txt',\n",
       "        'lockdown2020\\\\pos\\\\tweet_lockdown2020_88.txt',\n",
       "        'lockdown2020\\\\neg\\\\tweet_lockdown2020_201.txt',\n",
       "        'lockdown2020\\\\neg\\\\tweet_lockdown2020_240.txt',\n",
       "        'lockdown2020\\\\pos\\\\tweet_lockdown2020_172.txt',\n",
       "        'lockdown2020\\\\pos\\\\tweet_lockdown2020_21.txt',\n",
       "        'lockdown2020\\\\pos\\\\tweet_lockdown2020_47.txt',\n",
       "        'lockdown2020\\\\neg\\\\tweet_lockdown2020_180.txt',\n",
       "        'lockdown2020\\\\pos\\\\tweet_lockdown2020_288.txt',\n",
       "        'lockdown2020\\\\pos\\\\tweet_lockdown2020_101.txt',\n",
       "        'lockdown2020\\\\pos\\\\tweet_lockdown2020_73.txt',\n",
       "        'lockdown2020\\\\neg\\\\tweet_lockdown2020_151.txt',\n",
       "        'lockdown2020\\\\pos\\\\tweet_lockdown2020_243.txt',\n",
       "        'lockdown2020\\\\pos\\\\tweet_lockdown2020_94.txt',\n",
       "        'lockdown2020\\\\neg\\\\tweet_lockdown2020_281.txt',\n",
       "        'lockdown2020\\\\pos\\\\tweet_lockdown2020_43.txt',\n",
       "        'lockdown2020\\\\neg\\\\tweet_lockdown2020_196.txt',\n",
       "        'lockdown2020\\\\pos\\\\tweet_lockdown2020_204.txt',\n",
       "        'lockdown2020\\\\pos\\\\tweet_lockdown2020_50.txt',\n",
       "        'lockdown2020\\\\pos\\\\tweet_lockdown2020_259.txt',\n",
       "        'lockdown2020\\\\neg\\\\tweet_lockdown2020_92.txt',\n",
       "        'lockdown2020\\\\pos\\\\tweet_lockdown2020_68.txt',\n",
       "        'lockdown2020\\\\pos\\\\tweet_lockdown2020_213.txt',\n",
       "        'lockdown2020\\\\neg\\\\tweet_lockdown2020_234.txt',\n",
       "        'lockdown2020\\\\pos\\\\tweet_lockdown2020_37.txt',\n",
       "        'lockdown2020\\\\pos\\\\tweet_lockdown2020_286.txt',\n",
       "        'lockdown2020\\\\pos\\\\tweet_lockdown2020_185.txt',\n",
       "        'lockdown2020\\\\pos\\\\tweet_lockdown2020_222.txt',\n",
       "        'lockdown2020\\\\pos\\\\tweet_lockdown2020_159.txt',\n",
       "        'lockdown2020\\\\neg\\\\tweet_lockdown2020_39.txt',\n",
       "        'lockdown2020\\\\neg\\\\tweet_lockdown2020_110.txt',\n",
       "        'lockdown2020\\\\neg\\\\tweet_lockdown2020_374.txt',\n",
       "        'lockdown2020\\\\pos\\\\tweet_lockdown2020_177.txt',\n",
       "        'lockdown2020\\\\pos\\\\tweet_lockdown2020_181.txt',\n",
       "        'lockdown2020\\\\neg\\\\tweet_lockdown2020_299.txt',\n",
       "        'lockdown2020\\\\neg\\\\tweet_lockdown2020_122.txt',\n",
       "        'lockdown2020\\\\pos\\\\tweet_lockdown2020_15.txt',\n",
       "        'lockdown2020\\\\neg\\\\tweet_lockdown2020_99.txt',\n",
       "        'lockdown2020\\\\pos\\\\tweet_lockdown2020_84.txt',\n",
       "        'lockdown2020\\\\pos\\\\tweet_lockdown2020_206.txt',\n",
       "        'lockdown2020\\\\pos\\\\tweet_lockdown2020_199.txt',\n",
       "        'lockdown2020\\\\pos\\\\tweet_lockdown2020_17.txt',\n",
       "        'lockdown2020\\\\pos\\\\tweet_lockdown2020_301.txt',\n",
       "        'lockdown2020\\\\pos\\\\tweet_lockdown2020_81.txt',\n",
       "        'lockdown2020\\\\neg\\\\tweet_lockdown2020_327.txt',\n",
       "        'lockdown2020\\\\pos\\\\tweet_lockdown2020_214.txt',\n",
       "        'lockdown2020\\\\pos\\\\tweet_lockdown2020_51.txt',\n",
       "        'lockdown2020\\\\neg\\\\tweet_lockdown2020_61.txt',\n",
       "        'lockdown2020\\\\pos\\\\tweet_lockdown2020_235.txt',\n",
       "        'lockdown2020\\\\pos\\\\tweet_lockdown2020_242.txt',\n",
       "        'lockdown2020\\\\neg\\\\tweet_lockdown2020_90.txt',\n",
       "        'lockdown2020\\\\neg\\\\tweet_lockdown2020_324.txt',\n",
       "        'lockdown2020\\\\neg\\\\tweet_lockdown2020_311.txt',\n",
       "        'lockdown2020\\\\pos\\\\tweet_lockdown2020_156.txt',\n",
       "        'lockdown2020\\\\neg\\\\tweet_lockdown2020_13.txt',\n",
       "        'lockdown2020\\\\pos\\\\tweet_lockdown2020_285.txt',\n",
       "        'lockdown2020\\\\neg\\\\tweet_lockdown2020_198.txt',\n",
       "        'lockdown2020\\\\pos\\\\tweet_lockdown2020_321.txt',\n",
       "        'lockdown2020\\\\neg\\\\tweet_lockdown2020_182.txt',\n",
       "        'lockdown2020\\\\neg\\\\tweet_lockdown2020_149.txt',\n",
       "        'lockdown2020\\\\pos\\\\tweet_lockdown2020_130.txt',\n",
       "        'lockdown2020\\\\neg\\\\tweet_lockdown2020_333.txt',\n",
       "        'lockdown2020\\\\pos\\\\tweet_lockdown2020_106.txt',\n",
       "        'lockdown2020\\\\neg\\\\tweet_lockdown2020_111.txt',\n",
       "        'lockdown2020\\\\pos\\\\tweet_lockdown2020_95.txt',\n",
       "        'lockdown2020\\\\pos\\\\tweet_lockdown2020_277.txt',\n",
       "        'lockdown2020\\\\neg\\\\tweet_lockdown2020_117.txt',\n",
       "        'lockdown2020\\\\neg\\\\tweet_lockdown2020_89.txt',\n",
       "        'lockdown2020\\\\pos\\\\tweet_lockdown2020_102.txt',\n",
       "        'lockdown2020\\\\pos\\\\tweet_lockdown2020_150.txt',\n",
       "        'lockdown2020\\\\pos\\\\tweet_lockdown2020_29.txt',\n",
       "        'lockdown2020\\\\neg\\\\tweet_lockdown2020_127.txt',\n",
       "        'lockdown2020\\\\pos\\\\tweet_lockdown2020_289.txt',\n",
       "        'lockdown2020\\\\pos\\\\tweet_lockdown2020_338.txt',\n",
       "        'lockdown2020\\\\neg\\\\tweet_lockdown2020_142.txt',\n",
       "        'lockdown2020\\\\neg\\\\tweet_lockdown2020_100.txt',\n",
       "        'lockdown2020\\\\pos\\\\tweet_lockdown2020_171.txt',\n",
       "        'lockdown2020\\\\pos\\\\tweet_lockdown2020_34.txt',\n",
       "        'lockdown2020\\\\neg\\\\tweet_lockdown2020_300.txt',\n",
       "        'lockdown2020\\\\neg\\\\tweet_lockdown2020_123.txt',\n",
       "        'lockdown2020\\\\pos\\\\tweet_lockdown2020_2.txt',\n",
       "        'lockdown2020\\\\neg\\\\tweet_lockdown2020_258.txt',\n",
       "        'lockdown2020\\\\neg\\\\tweet_lockdown2020_365.txt',\n",
       "        'lockdown2020\\\\neg\\\\tweet_lockdown2020_291.txt',\n",
       "        'lockdown2020\\\\pos\\\\tweet_lockdown2020_86.txt',\n",
       "        'lockdown2020\\\\neg\\\\tweet_lockdown2020_62.txt',\n",
       "        'lockdown2020\\\\neg\\\\tweet_lockdown2020_108.txt',\n",
       "        'lockdown2020\\\\pos\\\\tweet_lockdown2020_236.txt',\n",
       "        'lockdown2020\\\\pos\\\\tweet_lockdown2020_316.txt',\n",
       "        'lockdown2020\\\\pos\\\\tweet_lockdown2020_72.txt',\n",
       "        'lockdown2020\\\\neg\\\\tweet_lockdown2020_297.txt',\n",
       "        'lockdown2020\\\\pos\\\\tweet_lockdown2020_202.txt',\n",
       "        'lockdown2020\\\\pos\\\\tweet_lockdown2020_372.txt',\n",
       "        'lockdown2020\\\\neg\\\\tweet_lockdown2020_152.txt',\n",
       "        'lockdown2020\\\\neg\\\\tweet_lockdown2020_270.txt',\n",
       "        'lockdown2020\\\\neg\\\\tweet_lockdown2020_339.txt',\n",
       "        'lockdown2020\\\\pos\\\\tweet_lockdown2020_294.txt',\n",
       "        'lockdown2020\\\\pos\\\\tweet_lockdown2020_276.txt',\n",
       "        'lockdown2020\\\\neg\\\\tweet_lockdown2020_255.txt',\n",
       "        'lockdown2020\\\\neg\\\\tweet_lockdown2020_237.txt',\n",
       "        'lockdown2020\\\\pos\\\\tweet_lockdown2020_215.txt',\n",
       "        'lockdown2020\\\\neg\\\\tweet_lockdown2020_246.txt',\n",
       "        'lockdown2020\\\\pos\\\\tweet_lockdown2020_326.txt',\n",
       "        'lockdown2020\\\\pos\\\\tweet_lockdown2020_267.txt',\n",
       "        'lockdown2020\\\\pos\\\\tweet_lockdown2020_40.txt',\n",
       "        'lockdown2020\\\\neg\\\\tweet_lockdown2020_247.txt',\n",
       "        'lockdown2020\\\\pos\\\\tweet_lockdown2020_323.txt',\n",
       "        'lockdown2020\\\\neg\\\\tweet_lockdown2020_238.txt',\n",
       "        'lockdown2020\\\\pos\\\\tweet_lockdown2020_192.txt',\n",
       "        'lockdown2020\\\\pos\\\\tweet_lockdown2020_147.txt',\n",
       "        'lockdown2020\\\\pos\\\\tweet_lockdown2020_132.txt',\n",
       "        'lockdown2020\\\\pos\\\\tweet_lockdown2020_221.txt',\n",
       "        'lockdown2020\\\\pos\\\\tweet_lockdown2020_347.txt',\n",
       "        'lockdown2020\\\\pos\\\\tweet_lockdown2020_85.txt',\n",
       "        'lockdown2020\\\\neg\\\\tweet_lockdown2020_93.txt',\n",
       "        'lockdown2020\\\\pos\\\\tweet_lockdown2020_114.txt',\n",
       "        'lockdown2020\\\\neg\\\\tweet_lockdown2020_220.txt',\n",
       "        'lockdown2020\\\\pos\\\\tweet_lockdown2020_139.txt',\n",
       "        'lockdown2020\\\\pos\\\\tweet_lockdown2020_74.txt',\n",
       "        'lockdown2020\\\\pos\\\\tweet_lockdown2020_80.txt',\n",
       "        'lockdown2020\\\\neg\\\\tweet_lockdown2020_274.txt',\n",
       "        'lockdown2020\\\\neg\\\\tweet_lockdown2020_373.txt',\n",
       "        'lockdown2020\\\\pos\\\\tweet_lockdown2020_32.txt',\n",
       "        'lockdown2020\\\\pos\\\\tweet_lockdown2020_165.txt',\n",
       "        'lockdown2020\\\\neg\\\\tweet_lockdown2020_91.txt',\n",
       "        'lockdown2020\\\\pos\\\\tweet_lockdown2020_16.txt',\n",
       "        'lockdown2020\\\\neg\\\\tweet_lockdown2020_264.txt',\n",
       "        'lockdown2020\\\\neg\\\\tweet_lockdown2020_191.txt',\n",
       "        'lockdown2020\\\\neg\\\\tweet_lockdown2020_12.txt',\n",
       "        'lockdown2020\\\\pos\\\\tweet_lockdown2020_20.txt',\n",
       "        'lockdown2020\\\\neg\\\\tweet_lockdown2020_7.txt',\n",
       "        'lockdown2020\\\\pos\\\\tweet_lockdown2020_228.txt',\n",
       "        'lockdown2020\\\\neg\\\\tweet_lockdown2020_307.txt'], dtype='<U43'),\n",
       " 'target_names': ['neg', 'pos'],\n",
       " 'target': array([0, 1, 0, 0, 1, 1, 0, 1, 1, 1, 1, 1, 0, 1, 1, 1, 0, 0, 0, 0, 0, 0,\n",
       "        0, 1, 0, 1, 1, 1, 1, 1, 0, 0, 1, 0, 0, 0, 1, 1, 1, 1, 0, 0, 1, 1,\n",
       "        1, 0, 1, 1, 1, 0, 1, 1, 0, 1, 0, 1, 1, 1, 0, 1, 1, 0, 1, 1, 1, 1,\n",
       "        1, 0, 0, 0, 1, 1, 0, 0, 1, 0, 1, 1, 1, 1, 1, 1, 0, 1, 1, 0, 1, 1,\n",
       "        0, 0, 0, 1, 0, 1, 0, 1, 0, 0, 1, 0, 1, 0, 1, 1, 0, 0, 1, 1, 1, 0,\n",
       "        1, 1, 0, 0, 1, 1, 0, 0, 1, 0, 0, 0, 1, 0, 0, 1, 1, 1, 0, 1, 1, 0,\n",
       "        0, 0, 1, 1, 0, 0, 1, 0, 1, 1, 1, 0, 1, 0, 1, 1, 1, 1, 1, 1, 0, 1,\n",
       "        0, 1, 1, 1, 0, 0, 1, 1, 0, 1, 0, 0, 0, 1, 0, 1, 0]),\n",
       " 'DESCR': None}"
      ]
     },
     "execution_count": 4,
     "metadata": {},
     "output_type": "execute_result"
    }
   ],
   "source": [
    "movie_data"
   ]
  },
  {
   "cell_type": "code",
   "execution_count": 5,
   "metadata": {},
   "outputs": [
    {
     "data": {
      "text/plain": [
       "171"
      ]
     },
     "execution_count": 5,
     "metadata": {},
     "output_type": "execute_result"
    }
   ],
   "source": [
    "len(y)"
   ]
  },
  {
   "cell_type": "code",
   "execution_count": 6,
   "metadata": {},
   "outputs": [
    {
     "data": {
      "text/plain": [
       "b\"Best part of 9hrs later and I've completed 12 masks for my family, just another 14 or so to do tomorrow. I knew that GCSE in Textiles would finally come in use \\xf0\\x9f\\x98\\x82 #lockdown2020 #coronavirus #staysafe https://t.co/pm9zPQl58p\""
      ]
     },
     "execution_count": 6,
     "metadata": {},
     "output_type": "execute_result"
    }
   ],
   "source": [
    "X[1]"
   ]
  },
  {
   "cell_type": "raw",
   "metadata": {},
   "source": [
    "Pour appliquer le stemming, on aura besoin d'un lemmatiseur. Pour ce on va télécharger wordnet."
   ]
  },
  {
   "cell_type": "code",
   "execution_count": 7,
   "metadata": {},
   "outputs": [
    {
     "name": "stderr",
     "output_type": "stream",
     "text": [
      "[nltk_data] Downloading package wordnet to\n",
      "[nltk_data]     C:\\Users\\HP\\AppData\\Roaming\\nltk_data...\n",
      "[nltk_data]   Package wordnet is already up-to-date!\n"
     ]
    },
    {
     "data": {
      "text/plain": [
       "True"
      ]
     },
     "execution_count": 7,
     "metadata": {},
     "output_type": "execute_result"
    }
   ],
   "source": [
    "#preprocessing\n",
    "from nltk.stem import WordNetLemmatizer\n",
    "\n",
    "stemmer = WordNetLemmatizer()\n",
    "\n",
    "nltk.download('wordnet')"
   ]
  },
  {
   "cell_type": "raw",
   "metadata": {},
   "source": [
    "On procède en premier lieu au prétraitement pour nettoyer les textes et les préparer à la représentation vectorielle. On utilise les expressions régulières pour cette phase de nettoyage.\n",
    "1. On enlève les caractères spéciaux\n",
    "2. On enlève les mots à un caractère\n",
    "3. On remplace les espaces multiples par un seul espace\n",
    "4. Convertir en minuscules\n",
    "5. Appliquer le lemmatiseur pour remonter à la racine\n",
    "\n",
    "Appliquons ces étapes, une à une, sur le premier document (opinion)"
   ]
  },
  {
   "cell_type": "code",
   "execution_count": 8,
   "metadata": {},
   "outputs": [
    {
     "data": {
      "text/plain": [
       "b\"Best part of 9hrs later and I've completed 12 masks for my family, just another 14 or so to do tomorrow. I knew that GCSE in Textiles would finally come in use \\xf0\\x9f\\x98\\x82 #lockdown2020 #coronavirus #staysafe https://t.co/pm9zPQl58p\""
      ]
     },
     "execution_count": 8,
     "metadata": {},
     "output_type": "execute_result"
    }
   ],
   "source": [
    "document = X[1]\n",
    "document"
   ]
  },
  {
   "cell_type": "code",
   "execution_count": 9,
   "metadata": {},
   "outputs": [
    {
     "data": {
      "text/plain": [
       "'b Best part of 9hrs later and I ve completed 12 masks for my family  just another 14 or so to do tomorrow  I knew that GCSE in Textiles would finally come in use  xf0 x9f x98 x82  lockdown2020  coronavirus  staysafe  '"
      ]
     },
     "execution_count": 9,
     "metadata": {},
     "output_type": "execute_result"
    }
   ],
   "source": [
    "document = re.sub(\"(@[A-Za-z0-9]+)|([^0-9A-Za-z \\t])|(\\w+:\\/\\/\\S+)\",\" \",str(document))\n",
    "document"
   ]
  },
  {
   "cell_type": "code",
   "execution_count": 10,
   "metadata": {},
   "outputs": [
    {
     "data": {
      "text/plain": [
       "'b Best part of 9hrs later and I ve completed 12 masks for my family  just another 14 or so to do tomorrow  I knew that GCSE in Textiles would finally come in use  xf0 x9f x98 x82  lockdown2020  coronavirus  staysafe  '"
      ]
     },
     "execution_count": 10,
     "metadata": {},
     "output_type": "execute_result"
    }
   ],
   "source": [
    "#enlever les caractères spéciaux, y compris la ponctuation\n",
    "document = re.sub(r'\\W', ' ', document)\n",
    "document"
   ]
  },
  {
   "cell_type": "code",
   "execution_count": 11,
   "metadata": {},
   "outputs": [
    {
     "data": {
      "text/plain": [
       "'b Best part of 9hrs later and ve completed 12 masks for my family  just another 14 or so to do tomorrow knew that GCSE in Textiles would finally come in use  xf0 x9f x98 x82  lockdown2020  coronavirus  staysafe  '"
      ]
     },
     "execution_count": 11,
     "metadata": {},
     "output_type": "execute_result"
    }
   ],
   "source": [
    "# enlever les mots à un caractère\n",
    "document = re.sub(r'\\s+[a-zA-Z]\\s+', ' ', document)\n",
    "document"
   ]
  },
  {
   "cell_type": "code",
   "execution_count": 12,
   "metadata": {},
   "outputs": [
    {
     "data": {
      "text/plain": [
       "'b Best part of 9hrs later and ve completed 12 masks for my family just another 14 or so to do tomorrow knew that GCSE in Textiles would finally come in use xf0 x9f x98 x82 lockdown2020 coronavirus staysafe '"
      ]
     },
     "execution_count": 12,
     "metadata": {},
     "output_type": "execute_result"
    }
   ],
   "source": [
    "# Remplacer les espaces multiples par un espace\n",
    "document = re.sub(r'\\s+', ' ', document, flags=re.I)\n",
    "document"
   ]
  },
  {
   "cell_type": "code",
   "execution_count": 13,
   "metadata": {},
   "outputs": [
    {
     "data": {
      "text/plain": [
       "'Best part of 9hrs later and ve completed 12 masks for my family just another 14 or so to do tomorrow knew that GCSE in Textiles would finally come in use xf0 x9f x98 x82 lockdown2020 coronavirus staysafe '"
      ]
     },
     "execution_count": 13,
     "metadata": {},
     "output_type": "execute_result"
    }
   ],
   "source": [
    "# Enlever la lettre b au début de chaque commentaire\n",
    "document = re.sub(r'^b\\s+', '', document)\n",
    "document"
   ]
  },
  {
   "cell_type": "code",
   "execution_count": 14,
   "metadata": {},
   "outputs": [
    {
     "data": {
      "text/plain": [
       "'Best part of 9hrs later and ve completed 12 masks for my family just another 14 or so to do tomorrow knew that GCSE in Teles would finally come in use     lockdown2020 coronavirus staysafe '"
      ]
     },
     "execution_count": 14,
     "metadata": {},
     "output_type": "execute_result"
    }
   ],
   "source": [
    " #enlever les  x99 x82 .... qui sont présents dans plusieurs tweets\n",
    "document = re.sub(r'[x][\\w][\\w]','',document)\n",
    "document"
   ]
  },
  {
   "cell_type": "code",
   "execution_count": 15,
   "metadata": {},
   "outputs": [
    {
     "data": {
      "text/plain": [
       "'best part of 9hrs later and ve completed 12 masks for my family just another 14 or so to do tomorrow knew that gcse in teles would finally come in use     lockdown2020 coronavirus staysafe '"
      ]
     },
     "execution_count": 15,
     "metadata": {},
     "output_type": "execute_result"
    }
   ],
   "source": [
    "# Convertir en minuscules\n",
    "document = document.lower()\n",
    "document"
   ]
  },
  {
   "cell_type": "code",
   "execution_count": 16,
   "metadata": {},
   "outputs": [
    {
     "data": {
      "text/plain": [
       "'best part of 9hrs later and ve completed 12 mask for my family just another 14 or so to do tomorrow knew that gcse in teles would finally come in use lockdown2020 coronavirus staysafe'"
      ]
     },
     "execution_count": 16,
     "metadata": {},
     "output_type": "execute_result"
    }
   ],
   "source": [
    "# Lemmatisation/stemming\n",
    "document = document.split()\n",
    "\n",
    "document = [stemmer.lemmatize(word) for word in document]\n",
    "document = ' '.join(document)\n",
    "document"
   ]
  },
  {
   "cell_type": "raw",
   "metadata": {},
   "source": [
    "Après avoir visualisé le résultat de chaque étape, on va l'appliquer sur l'ensemble des documents."
   ]
  },
  {
   "cell_type": "code",
   "execution_count": 17,
   "metadata": {},
   "outputs": [],
   "source": [
    "documents = []\n",
    "\n",
    "for sen in range(0, len(X)):  \n",
    "    # Remove all the special characters\n",
    "    document = re.sub(r'\\W', ' ', str(X[sen]))\n",
    "\n",
    "    # remove all single characters\n",
    "    document = re.sub(r'\\s+[a-zA-Z]\\s+', ' ', document)\n",
    "\n",
    "    # Substituting multiple spaces with single space\n",
    "    document = re.sub(r'\\s+', ' ', document, flags=re.I)\n",
    "\n",
    "    # Removing prefixed 'b'\n",
    "    document = re.sub(r'^b\\s+', '', document)\n",
    "    \n",
    "    #removing x**\n",
    "    document = re.sub(r'[x][\\w][\\w]','',document)\n",
    "\n",
    "    # Converting to Lowercase\n",
    "    document = document.lower()\n",
    "\n",
    "    # Lemmatization\n",
    "    document = document.split()\n",
    "\n",
    "    document = [stemmer.lemmatize(word) for word in document]\n",
    "    document = ' '.join(document)\n",
    "\n",
    "    documents.append(document)"
   ]
  },
  {
   "cell_type": "raw",
   "metadata": {},
   "source": [
    "On procède à l'extraction des features, après suppression des stopwords\n",
    "On choisit la valeur de min_df, le nombre minimum de documents où chaque feature apparait. Par exemple 5.\n",
    "On choisit aussi max_df, le nombre maximum où le feature apparait. Ici on a choisi 0.6, ça veut dire chaque feature doit apparaitre au plus dans 60% des documents.\n",
    "CountVectorizer génère une matrice où chaque ligne représente un document, et chaque colonne fait référence à un feature.\n",
    "On peut afficher le nombre de features extraits, et la liste de ces features."
   ]
  },
  {
   "cell_type": "code",
   "execution_count": 18,
   "metadata": {},
   "outputs": [
    {
     "name": "stdout",
     "output_type": "stream",
     "text": [
      "105\n",
      "[[0 0 0 ... 0 0 0]\n",
      " [0 0 0 ... 0 1 0]\n",
      " [0 1 0 ... 0 0 0]\n",
      " ...\n",
      " [0 1 0 ... 0 0 0]\n",
      " [0 0 0 ... 0 0 0]\n",
      " [0 0 0 ... 0 0 0]]\n"
     ]
    },
    {
     "data": {
      "text/plain": [
       "['10',\n",
       " '19',\n",
       " 'also',\n",
       " 'amp',\n",
       " 'away',\n",
       " 'back',\n",
       " 'best',\n",
       " 'case',\n",
       " 'come',\n",
       " 'coronavirus',\n",
       " 'could',\n",
       " 'country',\n",
       " 'covid',\n",
       " 'covid19',\n",
       " 'covid_19',\n",
       " 'cummings',\n",
       " 'day',\n",
       " 'died',\n",
       " 'difficult',\n",
       " 'dominiccummings',\n",
       " 'eid',\n",
       " 'eidmubarak',\n",
       " 'end',\n",
       " 'everyone',\n",
       " 'family',\n",
       " 'feel',\n",
       " 'feeling',\n",
       " 'finally',\n",
       " 'first',\n",
       " 'food',\n",
       " 'free',\n",
       " 'friend',\n",
       " 'get',\n",
       " 'go',\n",
       " 'going',\n",
       " 'good',\n",
       " 'got',\n",
       " 'government',\n",
       " 'great',\n",
       " 'ha',\n",
       " 'haircut',\n",
       " 'happy',\n",
       " 'home',\n",
       " 'jisoo',\n",
       " 'kid',\n",
       " 'know',\n",
       " 'life',\n",
       " 'like',\n",
       " 'lockdown',\n",
       " 'lockdownhouseparty',\n",
       " 'lockdownlife',\n",
       " 'lovely',\n",
       " 'made',\n",
       " 'making',\n",
       " 'month',\n",
       " 'must',\n",
       " 'need',\n",
       " 'new',\n",
       " 'news',\n",
       " 'ngladbach',\n",
       " 'nharvetz',\n",
       " 'nhttps',\n",
       " 'ni',\n",
       " 'night',\n",
       " 'nsikkim',\n",
       " 'nsope',\n",
       " 'nthis',\n",
       " 'one',\n",
       " 'open',\n",
       " 'pandemic',\n",
       " 'people',\n",
       " 'quarantine',\n",
       " 'quarantinelife',\n",
       " 'right',\n",
       " 'rule',\n",
       " 'saturday',\n",
       " 'saturdaythoughts',\n",
       " 'see',\n",
       " 'shopping',\n",
       " 'since',\n",
       " 'socialdistancing',\n",
       " 'sonusood',\n",
       " 'soon',\n",
       " 'standwithjamia',\n",
       " 'stay',\n",
       " 'stayhome',\n",
       " 'staysafe',\n",
       " 'still',\n",
       " 'story',\n",
       " 'sunday',\n",
       " 'thanks',\n",
       " 'thing',\n",
       " 'think',\n",
       " 'time',\n",
       " 'today',\n",
       " 'tomorrow',\n",
       " 'two',\n",
       " 'video',\n",
       " 'wa',\n",
       " 'want',\n",
       " 'week',\n",
       " 'weekend',\n",
       " 'well',\n",
       " 'would',\n",
       " 'year']"
      ]
     },
     "execution_count": 18,
     "metadata": {},
     "output_type": "execute_result"
    }
   ],
   "source": [
    "from sklearn.feature_extraction.text import CountVectorizer\n",
    "\n",
    "#To see the number of features\n",
    "vectorizer = CountVectorizer(min_df=4, max_df=0.6, stop_words=stopwords.words('english'))\n",
    "X = vectorizer.fit_transform(documents).toarray()\n",
    "print(len(X[0]))\n",
    "print(X)\n",
    "feature_list = vectorizer.get_feature_names()\n",
    "feature_list"
   ]
  },
  {
   "cell_type": "raw",
   "metadata": {},
   "source": [
    "On peut appliquer une méthode de feature selection pour choisir les meilleurs features pour faire la représentation des documents.\n",
    "On peut choisir une valeur pour k, par exemple 100."
   ]
  },
  {
   "cell_type": "code",
   "execution_count": 19,
   "metadata": {},
   "outputs": [
    {
     "data": {
      "text/plain": [
       "array([[0, 0, 0, ..., 0, 0, 0],\n",
       "       [0, 0, 0, ..., 0, 1, 0],\n",
       "       [0, 1, 0, ..., 0, 0, 0],\n",
       "       ...,\n",
       "       [0, 1, 0, ..., 0, 0, 0],\n",
       "       [0, 0, 0, ..., 0, 0, 0],\n",
       "       [0, 0, 0, ..., 0, 0, 0]], dtype=int64)"
      ]
     },
     "execution_count": 19,
     "metadata": {},
     "output_type": "execute_result"
    }
   ],
   "source": [
    "#Feature Selection\n",
    "from sklearn.feature_selection import SelectKBest\n",
    "from sklearn.feature_selection import chi2\n",
    "\n",
    "selector = SelectKBest(chi2, k=100)\n",
    "\n",
    "X_new = selector.fit_transform(X, y)\n",
    "X_new"
   ]
  },
  {
   "cell_type": "raw",
   "metadata": {},
   "source": [
    "On peut afficher les features sélectionnés"
   ]
  },
  {
   "cell_type": "code",
   "execution_count": 20,
   "metadata": {},
   "outputs": [
    {
     "name": "stdout",
     "output_type": "stream",
     "text": [
      "10\n",
      "19\n",
      "also\n",
      "amp\n",
      "away\n",
      "back\n",
      "best\n",
      "case\n",
      "come\n",
      "coronavirus\n",
      "could\n",
      "country\n",
      "covid\n",
      "covid19\n",
      "covid_19\n",
      "cummings\n",
      "day\n",
      "died\n",
      "difficult\n",
      "dominiccummings\n",
      "eid\n",
      "eidmubarak\n",
      "end\n",
      "family\n",
      "feeling\n",
      "finally\n",
      "first\n",
      "food\n",
      "free\n",
      "friend\n",
      "get\n",
      "go\n",
      "going\n",
      "good\n",
      "got\n",
      "government\n",
      "great\n",
      "ha\n",
      "haircut\n",
      "happy\n",
      "home\n",
      "jisoo\n",
      "kid\n",
      "know\n",
      "life\n",
      "like\n",
      "lockdown\n",
      "lockdownhouseparty\n",
      "lockdownlife\n",
      "lovely\n",
      "made\n",
      "making\n",
      "must\n",
      "need\n",
      "new\n",
      "news\n",
      "ngladbach\n",
      "nharvetz\n",
      "ni\n",
      "night\n",
      "nsikkim\n",
      "nsope\n",
      "nthis\n",
      "one\n",
      "open\n",
      "pandemic\n",
      "people\n",
      "quarantinelife\n",
      "right\n",
      "rule\n",
      "saturday\n",
      "saturdaythoughts\n",
      "see\n",
      "shopping\n",
      "since\n",
      "socialdistancing\n",
      "sonusood\n",
      "soon\n",
      "standwithjamia\n",
      "stay\n",
      "stayhome\n",
      "staysafe\n",
      "still\n",
      "story\n",
      "sunday\n",
      "thanks\n",
      "thing\n",
      "think\n",
      "time\n",
      "today\n",
      "tomorrow\n",
      "two\n",
      "video\n",
      "wa\n",
      "want\n",
      "week\n",
      "weekend\n",
      "well\n",
      "would\n",
      "year\n"
     ]
    }
   ],
   "source": [
    "cols = selector.get_support(indices=True)\n",
    "cols\n",
    "for i in cols :\n",
    "    print(feature_list[i])"
   ]
  },
  {
   "cell_type": "raw",
   "metadata": {},
   "source": [
    "On peut faire autrement, on applique CountVectorizer en donnant une valeur à l'hyperparamètre max_features pour choisir les features les plus fréquents."
   ]
  },
  {
   "cell_type": "code",
   "execution_count": 84,
   "metadata": {},
   "outputs": [
    {
     "data": {
      "text/plain": [
       "array([[0, 0, 0, ..., 0, 0, 0],\n",
       "       [0, 0, 0, ..., 0, 1, 0],\n",
       "       [0, 1, 0, ..., 0, 0, 0],\n",
       "       ...,\n",
       "       [0, 1, 0, ..., 0, 0, 0],\n",
       "       [0, 0, 0, ..., 0, 0, 0],\n",
       "       [0, 0, 0, ..., 0, 0, 0]], dtype=int64)"
      ]
     },
     "execution_count": 84,
     "metadata": {},
     "output_type": "execute_result"
    }
   ],
   "source": [
    "#max_features : top max_features ordered by term frequency across the corpus\n",
    "vectorizer = CountVectorizer(max_features=1500, min_df=4, max_df=0.6, stop_words=stopwords.words('english'))  \n",
    "X = vectorizer.fit_transform(documents).toarray()\n",
    "X"
   ]
  },
  {
   "cell_type": "code",
   "execution_count": 25,
   "metadata": {},
   "outputs": [
    {
     "data": {
      "text/plain": [
       "171"
      ]
     },
     "execution_count": 25,
     "metadata": {},
     "output_type": "execute_result"
    }
   ],
   "source": [
    "len(X)"
   ]
  },
  {
   "cell_type": "raw",
   "metadata": {},
   "source": [
    "On prépare les données pour la classification. On aura besoin d'une partie apprentissage et d'une partie test.\n",
    "On choisit de consacrer 20% des documents au test.\n",
    "Remarquons qu'il y a une partie dédiée au données textuelles (X_train et X_test), et une partie dédiée aux labels (y_train et y_test)"
   ]
  },
  {
   "cell_type": "code",
   "execution_count": 104,
   "metadata": {},
   "outputs": [],
   "source": [
    "#Training and Testing Sets\n",
    "\n",
    "from sklearn.model_selection import train_test_split  \n",
    "X_train, X_test, y_train, y_test = train_test_split(X, y, test_size=0.2, random_state=0)"
   ]
  },
  {
   "cell_type": "raw",
   "metadata": {},
   "source": [
    "On passe à la phase d'apprentissage du modèle de classification, on essaie avec RandomForest."
   ]
  },
  {
   "cell_type": "code",
   "execution_count": 105,
   "metadata": {},
   "outputs": [
    {
     "name": "stdout",
     "output_type": "stream",
     "text": [
      "Fitting 3 folds for each of 10 candidates, totalling 30 fits\n"
     ]
    },
    {
     "name": "stderr",
     "output_type": "stream",
     "text": [
      "[Parallel(n_jobs=-1)]: Using backend LokyBackend with 8 concurrent workers.\n",
      "[Parallel(n_jobs=-1)]: Done  30 out of  30 | elapsed:   16.1s finished\n",
      "C:\\Users\\HP\\Anaconda3\\lib\\site-packages\\sklearn\\model_selection\\_search.py:814: DeprecationWarning: The default of the `iid` parameter will change from True to False in version 0.22 and will be removed in 0.24. This will change numeric results when test-set sizes are unequal.\n",
      "  DeprecationWarning)\n"
     ]
    },
    {
     "data": {
      "text/plain": [
       "RandomizedSearchCV(cv=3, error_score='raise-deprecating',\n",
       "                   estimator=RandomForestClassifier(bootstrap=True,\n",
       "                                                    class_weight=None,\n",
       "                                                    criterion='gini',\n",
       "                                                    max_depth=None,\n",
       "                                                    max_features='auto',\n",
       "                                                    max_leaf_nodes=None,\n",
       "                                                    min_impurity_decrease=0.0,\n",
       "                                                    min_impurity_split=None,\n",
       "                                                    min_samples_leaf=1,\n",
       "                                                    min_samples_split=2,\n",
       "                                                    min_weight_fraction_leaf=0.0,\n",
       "                                                    n_estimators='warn',\n",
       "                                                    n_jobs=None,\n",
       "                                                    oob_sc...\n",
       "                   param_distributions={'bootstrap': [True, False],\n",
       "                                        'max_depth': [200, 347, 494, 642, 789,\n",
       "                                                      936, 1084, 1231, 1378,\n",
       "                                                      1526, 1673, 1821, 1968,\n",
       "                                                      2115, 2263, 2410, 2557,\n",
       "                                                      2705, 2852, 3000],\n",
       "                                        'max_features': ['auto', 'sqrt'],\n",
       "                                        'n_estimators': [200, 400, 600, 800,\n",
       "                                                         1000, 1200, 1400, 1600,\n",
       "                                                         1800, 2000, 2500, 3000,\n",
       "                                                         3500]},\n",
       "                   pre_dispatch='2*n_jobs', random_state=42, refit=True,\n",
       "                   return_train_score=False, scoring=None, verbose=1)"
      ]
     },
     "execution_count": 105,
     "metadata": {},
     "output_type": "execute_result"
    }
   ],
   "source": [
    "#On a choisi de travailler avec RandomizedSearchCV qui nous permet de simuler sur plusieurs paramètres de randomforrest, et choisi vers la fin les meilleurs paramètres\n",
    "from sklearn.ensemble import RandomForestClassifier\n",
    "from sklearn.model_selection import RandomizedSearchCV\n",
    "rf = RandomForestClassifier() \n",
    "random_grid = {'bootstrap': [True, False],\n",
    "               'max_depth': [int(x) for x in np.linspace(start = 200, stop = 3000, num = 20)],\n",
    "               'max_features': ['auto', 'sqrt'],\n",
    "               'n_estimators': [200, 400, 600, 800, 1000, 1200, 1400, 1600, 1800, 2000,2500,3000,3500]\n",
    "               }\n",
    "rf_random = RandomizedSearchCV(estimator = rf, param_distributions = random_grid, cv = 3, verbose=1, random_state=42, n_jobs = -1)\n",
    "rf_random.fit(X_train,y_train)"
   ]
  },
  {
   "cell_type": "code",
   "execution_count": 106,
   "metadata": {},
   "outputs": [
    {
     "data": {
      "text/plain": [
       "RandomForestClassifier(bootstrap=True, class_weight=None, criterion='gini',\n",
       "                       max_depth=None, max_features='auto', max_leaf_nodes=None,\n",
       "                       min_impurity_decrease=0.0, min_impurity_split=None,\n",
       "                       min_samples_leaf=1, min_samples_split=2,\n",
       "                       min_weight_fraction_leaf=0.0, n_estimators=3000,\n",
       "                       n_jobs=None, oob_score=False, random_state=0, verbose=0,\n",
       "                       warm_start=False)"
      ]
     },
     "execution_count": 106,
     "metadata": {},
     "output_type": "execute_result"
    }
   ],
   "source": [
    "#Training Text Classification Model and Predicting Sentiment\n",
    "\n",
    "from sklearn.ensemble import RandomForestClassifier\n",
    "classifier = RandomForestClassifier(n_estimators=3000, random_state=0)  \n",
    "classifier.fit(X_train, y_train)"
   ]
  },
  {
   "cell_type": "raw",
   "metadata": {},
   "source": [
    "Une fois le modèle établi, on fait la prédiction sur les données de test pour évaluer notre modèle."
   ]
  },
  {
   "cell_type": "code",
   "execution_count": 107,
   "metadata": {},
   "outputs": [
    {
     "name": "stdout",
     "output_type": "stream",
     "text": [
      "prédiction du modèle rf_random:  [0 0 1 0 1 1 1 0 0 0 0 1 1 0 0 1 0 0 0 1 1 1 1 0 1 1 0 1 1 0 1 0 1 0 1]\n",
      "prédiction du modèle classifier: [0 1 1 0 1 1 1 0 0 0 0 1 1 0 0 1 0 0 0 1 1 1 1 0 1 1 1 1 1 0 1 0 1 0 1]\n",
      "        y_test:                  [0 0 1 1 1 1 1 0 0 0 0 1 1 0 0 1 0 0 0 1 1 1 1 1 1 0 0 1 1 0 1 1 1 0 1]\n",
      "deja on peut remarquer que le modèle rf_random prédit mieux que le modèle classifier\n"
     ]
    }
   ],
   "source": [
    "#Predict on test set\n",
    "y_pred_grid =rf_random.predict(X_test)\n",
    "print(\"prédiction du modèle rf_random: \",y_pred_grid)\n",
    "y_pred =classifier.predict(X_test)\n",
    "print(\"prédiction du modèle classifier:\",y_pred)\n",
    "print(\"        y_test:                 \",y_test)\n",
    "y_pred_logreg = logreg_cv.predict(X_test)\n",
    "print(\"deja on peut remarquer que le modèle rf_random prédit mieux que le modèle classifier\")"
   ]
  },
  {
   "cell_type": "raw",
   "metadata": {},
   "source": [
    "On affiche le résultat de test, en l'occurrence la matrice de conusion et les métriques les plus communes (précision, rappel, accuracy, F1)\n",
    "\n",
    "Si on n'est pas satisfait du résultat, on revient aux étapes précedantes et on change les valeurs des hyper-paramètres pour voir l'impact et chercher les meilleurs settings qui vont servir par la suite pour le déploiement."
   ]
  },
  {
   "cell_type": "code",
   "execution_count": 108,
   "metadata": {},
   "outputs": [
    {
     "name": "stdout",
     "output_type": "stream",
     "text": [
      "metriques du modèle du TP random forrest classifier\n",
      "[[12  3]\n",
      " [ 3 17]]\n",
      "              precision    recall  f1-score   support\n",
      "\n",
      "           0       0.80      0.80      0.80        15\n",
      "           1       0.85      0.85      0.85        20\n",
      "\n",
      "    accuracy                           0.83        35\n",
      "   macro avg       0.82      0.82      0.83        35\n",
      "weighted avg       0.83      0.83      0.83        35\n",
      "\n",
      "l'accuracy du modèle dèja utilisé dans le TP d'avant :  0.8285714285714286\n",
      "metriques du modèle qu'on a choisi pour ce travail qu'on a appelé rf_random (pour choisir les hyperparametres optimaux automatiquement)\n",
      "[[14  1]\n",
      " [ 3 17]]\n",
      "              precision    recall  f1-score   support\n",
      "\n",
      "           0       0.82      0.93      0.87        15\n",
      "           1       0.94      0.85      0.89        20\n",
      "\n",
      "    accuracy                           0.89        35\n",
      "   macro avg       0.88      0.89      0.88        35\n",
      "weighted avg       0.89      0.89      0.89        35\n",
      "\n",
      "l'accuracy de notrte modèle :  0.8857142857142857\n",
      "on peut aussi afficher les meilleurs paramètres de randomforrest classifer que notre modèle a choisi :\n",
      "meilleurs paramètres {'n_estimators': 200, 'max_features': 'sqrt', 'max_depth': 2115, 'bootstrap': False}\n",
      "meilleurs estimateurs RandomForestClassifier(bootstrap=False, class_weight=None, criterion='gini',\n",
      "                       max_depth=2115, max_features='sqrt', max_leaf_nodes=None,\n",
      "                       min_impurity_decrease=0.0, min_impurity_split=None,\n",
      "                       min_samples_leaf=1, min_samples_split=2,\n",
      "                       min_weight_fraction_leaf=0.0, n_estimators=200,\n",
      "                       n_jobs=None, oob_score=False, random_state=None,\n",
      "                       verbose=0, warm_start=False)\n"
     ]
    }
   ],
   "source": [
    "#Evaluating the Model\n",
    "from sklearn.metrics import classification_report, confusion_matrix, accuracy_score\n",
    "\n",
    "\n",
    "print (\"metriques du modèle du TP random forrest classifier\")\n",
    "print(confusion_matrix(y_test,y_pred))\n",
    "print(classification_report(y_test,y_pred))\n",
    "print(\"l'accuracy du modèle dèja utilisé dans le TP d'avant : \" ,accuracy_score(y_test, y_pred))\n",
    "print (\"metriques du modèle qu'on a choisi pour ce travail qu'on a appelé rf_random (pour choisir les hyperparametres optimaux automatiquement)\")\n",
    "print(confusion_matrix(y_test,y_pred_grid))\n",
    "print(classification_report(y_test,y_pred_grid))\n",
    "print(\"l'accuracy de notrte modèle : \" ,accuracy_score(y_test, y_pred_grid))\n",
    "print(\"on peut aussi afficher les meilleurs paramètres de randomforrest classifer que notre modèle a choisi :\")\n",
    "print(\"meilleurs paramètres\",rf_random.best_params_)\n",
    "print(\"meilleurs estimateurs\",rf_random.best_estimator_)\n"
   ]
  },
  {
   "cell_type": "raw",
   "metadata": {},
   "source": [
    "Une fois on est satisfait de la performance du modèle, on peut le sauvegarder dans un fichier pour l'utiliser pour prédire la polarité de nouveaux documents."
   ]
  },
  {
   "cell_type": "code",
   "execution_count": 36,
   "metadata": {},
   "outputs": [],
   "source": [
    "#Save the model\n",
    "with open('text_classifier', 'wb') as picklefile:  \n",
    "    pickle.dump(rf_random,picklefile)"
   ]
  },
  {
   "cell_type": "code",
   "execution_count": 37,
   "metadata": {},
   "outputs": [
    {
     "data": {
      "text/plain": [
       "RandomizedSearchCV(cv=3, error_score='raise-deprecating',\n",
       "                   estimator=RandomForestClassifier(bootstrap=True,\n",
       "                                                    class_weight=None,\n",
       "                                                    criterion='gini',\n",
       "                                                    max_depth=None,\n",
       "                                                    max_features='auto',\n",
       "                                                    max_leaf_nodes=None,\n",
       "                                                    min_impurity_decrease=0.0,\n",
       "                                                    min_impurity_split=None,\n",
       "                                                    min_samples_leaf=1,\n",
       "                                                    min_samples_split=2,\n",
       "                                                    min_weight_fraction_leaf=0.0,\n",
       "                                                    n_estimators='warn',\n",
       "                                                    n_jobs=None,\n",
       "                                                    oob_sc...\n",
       "                   param_distributions={'bootstrap': [True, False],\n",
       "                                        'max_depth': [200, 347, 494, 642, 789,\n",
       "                                                      936, 1084, 1231, 1378,\n",
       "                                                      1526, 1673, 1821, 1968,\n",
       "                                                      2115, 2263, 2410, 2557,\n",
       "                                                      2705, 2852, 3000],\n",
       "                                        'max_features': ['auto', 'sqrt'],\n",
       "                                        'n_estimators': [200, 400, 600, 800,\n",
       "                                                         1000, 1200, 1400, 1600,\n",
       "                                                         1800, 2000, 2500, 3000,\n",
       "                                                         3500]},\n",
       "                   pre_dispatch='2*n_jobs', random_state=42, refit=True,\n",
       "                   return_train_score=False, scoring=None, verbose=2)"
      ]
     },
     "execution_count": 37,
     "metadata": {},
     "output_type": "execute_result"
    }
   ],
   "source": [
    "#To load the model\n",
    "with open('text_classifier', 'rb') as training_model:  \n",
    "    model = pickle.load(training_model)\n",
    "model"
   ]
  },
  {
   "cell_type": "code",
   "execution_count": 98,
   "metadata": {},
   "outputs": [
    {
     "name": "stdout",
     "output_type": "stream",
     "text": [
      "[[14  1]\n",
      " [ 3 17]]\n",
      "              precision    recall  f1-score   support\n",
      "\n",
      "           0       0.82      0.93      0.87        15\n",
      "           1       0.94      0.85      0.89        20\n",
      "\n",
      "    accuracy                           0.89        35\n",
      "   macro avg       0.88      0.89      0.88        35\n",
      "weighted avg       0.89      0.89      0.89        35\n",
      "\n",
      "0.8857142857142857\n"
     ]
    }
   ],
   "source": [
    "y_pred2 = model.predict(X_test)\n",
    "\n",
    "print(confusion_matrix(y_test, y_pred2))  \n",
    "print(classification_report(y_test, y_pred2))  \n",
    "print(accuracy_score(y_test, y_pred2))"
   ]
  },
  {
   "cell_type": "code",
   "execution_count": null,
   "metadata": {},
   "outputs": [],
   "source": []
  }
 ],
 "metadata": {
  "kernelspec": {
   "display_name": "Python 3",
   "language": "python",
   "name": "python3"
  },
  "language_info": {
   "codemirror_mode": {
    "name": "ipython",
    "version": 3
   },
   "file_extension": ".py",
   "mimetype": "text/x-python",
   "name": "python",
   "nbconvert_exporter": "python",
   "pygments_lexer": "ipython3",
   "version": "3.7.4"
  }
 },
 "nbformat": 4,
 "nbformat_minor": 4
}
